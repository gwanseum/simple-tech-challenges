{
 "cells": [
  {
   "cell_type": "markdown",
   "metadata": {},
   "source": [
    "# Customer Churn Prediction Analysis"
   ]
  },
  {
   "cell_type": "markdown",
   "metadata": {},
   "source": [
    "### Description\n",
    "\n",
    "Name : K.S, SUH \n",
    "Date : 2017.08.05 KST(seoul) 08:32 AM\n",
    "\n",
    "Purpose: Tech-challenges for application for BNK\n",
    "    \n",
    "Customer churn also known as Customer turnover occurs when customers are stop doing business with a company or service from bank. Therefore, Understanding what keeps customer engageing is incredibly valuable for BNK at the moment. In the meantime,I have tried to find relevant data set about Customer churn in Banking but I could not find any publicly opened data set in banking. so, I choose a similar dataset(a longstanding telecom data )\n",
    "\n",
    "In this notebook, you will explore a simple case study to show how Python and its scientific libraries can be used to predict churn"
   ]
  },
  {
   "cell_type": "markdown",
   "metadata": {},
   "source": [
    "## PART 1. "
   ]
  },
  {
   "cell_type": "markdown",
   "metadata": {},
   "source": [
    "### Load data"
   ]
  },
  {
   "cell_type": "code",
   "execution_count": 1,
   "metadata": {
    "collapsed": true
   },
   "outputs": [],
   "source": [
    "import numpy as np\n",
    "import pandas as pd\n",
    "import matplotlib.pyplot as plt\n",
    "%matplotlib inline"
   ]
  },
  {
   "cell_type": "code",
   "execution_count": 2,
   "metadata": {
    "collapsed": true
   },
   "outputs": [],
   "source": [
    "df = pd.read_csv('churn.csv')"
   ]
  },
  {
   "cell_type": "code",
   "execution_count": 3,
   "metadata": {},
   "outputs": [
    {
     "data": {
      "text/html": [
       "<div>\n",
       "<style>\n",
       "    .dataframe thead tr:only-child th {\n",
       "        text-align: right;\n",
       "    }\n",
       "\n",
       "    .dataframe thead th {\n",
       "        text-align: left;\n",
       "    }\n",
       "\n",
       "    .dataframe tbody tr th {\n",
       "        vertical-align: top;\n",
       "    }\n",
       "</style>\n",
       "<table border=\"1\" class=\"dataframe\">\n",
       "  <thead>\n",
       "    <tr style=\"text-align: right;\">\n",
       "      <th></th>\n",
       "      <th>State</th>\n",
       "      <th>Account Length</th>\n",
       "      <th>Area Code</th>\n",
       "      <th>Phone</th>\n",
       "      <th>Int'l Plan</th>\n",
       "      <th>VMail Plan</th>\n",
       "      <th>VMail Message</th>\n",
       "      <th>Day Mins</th>\n",
       "      <th>Day Calls</th>\n",
       "      <th>Day Charge</th>\n",
       "      <th>...</th>\n",
       "      <th>Eve Calls</th>\n",
       "      <th>Eve Charge</th>\n",
       "      <th>Night Mins</th>\n",
       "      <th>Night Calls</th>\n",
       "      <th>Night Charge</th>\n",
       "      <th>Intl Mins</th>\n",
       "      <th>Intl Calls</th>\n",
       "      <th>Intl Charge</th>\n",
       "      <th>CustServ Calls</th>\n",
       "      <th>Churn?</th>\n",
       "    </tr>\n",
       "  </thead>\n",
       "  <tbody>\n",
       "    <tr>\n",
       "      <th>0</th>\n",
       "      <td>KS</td>\n",
       "      <td>128</td>\n",
       "      <td>415</td>\n",
       "      <td>382-4657</td>\n",
       "      <td>no</td>\n",
       "      <td>yes</td>\n",
       "      <td>25</td>\n",
       "      <td>265.1</td>\n",
       "      <td>110</td>\n",
       "      <td>45.07</td>\n",
       "      <td>...</td>\n",
       "      <td>99</td>\n",
       "      <td>16.78</td>\n",
       "      <td>244.7</td>\n",
       "      <td>91</td>\n",
       "      <td>11.01</td>\n",
       "      <td>10.0</td>\n",
       "      <td>3</td>\n",
       "      <td>2.70</td>\n",
       "      <td>1</td>\n",
       "      <td>False.</td>\n",
       "    </tr>\n",
       "    <tr>\n",
       "      <th>1</th>\n",
       "      <td>OH</td>\n",
       "      <td>107</td>\n",
       "      <td>415</td>\n",
       "      <td>371-7191</td>\n",
       "      <td>no</td>\n",
       "      <td>yes</td>\n",
       "      <td>26</td>\n",
       "      <td>161.6</td>\n",
       "      <td>123</td>\n",
       "      <td>27.47</td>\n",
       "      <td>...</td>\n",
       "      <td>103</td>\n",
       "      <td>16.62</td>\n",
       "      <td>254.4</td>\n",
       "      <td>103</td>\n",
       "      <td>11.45</td>\n",
       "      <td>13.7</td>\n",
       "      <td>3</td>\n",
       "      <td>3.70</td>\n",
       "      <td>1</td>\n",
       "      <td>False.</td>\n",
       "    </tr>\n",
       "    <tr>\n",
       "      <th>2</th>\n",
       "      <td>NJ</td>\n",
       "      <td>137</td>\n",
       "      <td>415</td>\n",
       "      <td>358-1921</td>\n",
       "      <td>no</td>\n",
       "      <td>no</td>\n",
       "      <td>0</td>\n",
       "      <td>243.4</td>\n",
       "      <td>114</td>\n",
       "      <td>41.38</td>\n",
       "      <td>...</td>\n",
       "      <td>110</td>\n",
       "      <td>10.30</td>\n",
       "      <td>162.6</td>\n",
       "      <td>104</td>\n",
       "      <td>7.32</td>\n",
       "      <td>12.2</td>\n",
       "      <td>5</td>\n",
       "      <td>3.29</td>\n",
       "      <td>0</td>\n",
       "      <td>False.</td>\n",
       "    </tr>\n",
       "    <tr>\n",
       "      <th>3</th>\n",
       "      <td>OH</td>\n",
       "      <td>84</td>\n",
       "      <td>408</td>\n",
       "      <td>375-9999</td>\n",
       "      <td>yes</td>\n",
       "      <td>no</td>\n",
       "      <td>0</td>\n",
       "      <td>299.4</td>\n",
       "      <td>71</td>\n",
       "      <td>50.90</td>\n",
       "      <td>...</td>\n",
       "      <td>88</td>\n",
       "      <td>5.26</td>\n",
       "      <td>196.9</td>\n",
       "      <td>89</td>\n",
       "      <td>8.86</td>\n",
       "      <td>6.6</td>\n",
       "      <td>7</td>\n",
       "      <td>1.78</td>\n",
       "      <td>2</td>\n",
       "      <td>False.</td>\n",
       "    </tr>\n",
       "    <tr>\n",
       "      <th>4</th>\n",
       "      <td>OK</td>\n",
       "      <td>75</td>\n",
       "      <td>415</td>\n",
       "      <td>330-6626</td>\n",
       "      <td>yes</td>\n",
       "      <td>no</td>\n",
       "      <td>0</td>\n",
       "      <td>166.7</td>\n",
       "      <td>113</td>\n",
       "      <td>28.34</td>\n",
       "      <td>...</td>\n",
       "      <td>122</td>\n",
       "      <td>12.61</td>\n",
       "      <td>186.9</td>\n",
       "      <td>121</td>\n",
       "      <td>8.41</td>\n",
       "      <td>10.1</td>\n",
       "      <td>3</td>\n",
       "      <td>2.73</td>\n",
       "      <td>3</td>\n",
       "      <td>False.</td>\n",
       "    </tr>\n",
       "  </tbody>\n",
       "</table>\n",
       "<p>5 rows × 21 columns</p>\n",
       "</div>"
      ],
      "text/plain": [
       "  State  Account Length  Area Code     Phone Int'l Plan VMail Plan  \\\n",
       "0    KS             128        415  382-4657         no        yes   \n",
       "1    OH             107        415  371-7191         no        yes   \n",
       "2    NJ             137        415  358-1921         no         no   \n",
       "3    OH              84        408  375-9999        yes         no   \n",
       "4    OK              75        415  330-6626        yes         no   \n",
       "\n",
       "   VMail Message  Day Mins  Day Calls  Day Charge   ...    Eve Calls  \\\n",
       "0             25     265.1        110       45.07   ...           99   \n",
       "1             26     161.6        123       27.47   ...          103   \n",
       "2              0     243.4        114       41.38   ...          110   \n",
       "3              0     299.4         71       50.90   ...           88   \n",
       "4              0     166.7        113       28.34   ...          122   \n",
       "\n",
       "   Eve Charge  Night Mins  Night Calls  Night Charge  Intl Mins  Intl Calls  \\\n",
       "0       16.78       244.7           91         11.01       10.0           3   \n",
       "1       16.62       254.4          103         11.45       13.7           3   \n",
       "2       10.30       162.6          104          7.32       12.2           5   \n",
       "3        5.26       196.9           89          8.86        6.6           7   \n",
       "4       12.61       186.9          121          8.41       10.1           3   \n",
       "\n",
       "   Intl Charge  CustServ Calls  Churn?  \n",
       "0         2.70               1  False.  \n",
       "1         3.70               1  False.  \n",
       "2         3.29               0  False.  \n",
       "3         1.78               2  False.  \n",
       "4         2.73               3  False.  \n",
       "\n",
       "[5 rows x 21 columns]"
      ]
     },
     "execution_count": 3,
     "metadata": {},
     "output_type": "execute_result"
    }
   ],
   "source": [
    "df.head()"
   ]
  },
  {
   "cell_type": "code",
   "execution_count": 4,
   "metadata": {},
   "outputs": [
    {
     "data": {
      "text/plain": [
       "0    False.\n",
       "1    False.\n",
       "2    False.\n",
       "3    False.\n",
       "4    False.\n",
       "Name: Churn?, dtype: object"
      ]
     },
     "execution_count": 4,
     "metadata": {},
     "output_type": "execute_result"
    }
   ],
   "source": [
    "df['Churn?'].head()"
   ]
  },
  {
   "cell_type": "code",
   "execution_count": 5,
   "metadata": {},
   "outputs": [
    {
     "data": {
      "text/plain": [
       "(3333, 21)"
      ]
     },
     "execution_count": 5,
     "metadata": {},
     "output_type": "execute_result"
    }
   ],
   "source": [
    "df.shape"
   ]
  },
  {
   "cell_type": "code",
   "execution_count": 6,
   "metadata": {},
   "outputs": [
    {
     "name": "stdout",
     "output_type": "stream",
     "text": [
      "<class 'pandas.core.frame.DataFrame'>\n",
      "RangeIndex: 3333 entries, 0 to 3332\n",
      "Data columns (total 21 columns):\n",
      "State             3333 non-null object\n",
      "Account Length    3333 non-null int64\n",
      "Area Code         3333 non-null int64\n",
      "Phone             3333 non-null object\n",
      "Int'l Plan        3333 non-null object\n",
      "VMail Plan        3333 non-null object\n",
      "VMail Message     3333 non-null int64\n",
      "Day Mins          3333 non-null float64\n",
      "Day Calls         3333 non-null int64\n",
      "Day Charge        3333 non-null float64\n",
      "Eve Mins          3333 non-null float64\n",
      "Eve Calls         3333 non-null int64\n",
      "Eve Charge        3333 non-null float64\n",
      "Night Mins        3333 non-null float64\n",
      "Night Calls       3333 non-null int64\n",
      "Night Charge      3333 non-null float64\n",
      "Intl Mins         3333 non-null float64\n",
      "Intl Calls        3333 non-null int64\n",
      "Intl Charge       3333 non-null float64\n",
      "CustServ Calls    3333 non-null int64\n",
      "Churn?            3333 non-null object\n",
      "dtypes: float64(8), int64(8), object(5)\n",
      "memory usage: 546.9+ KB\n"
     ]
    }
   ],
   "source": [
    "df.info()"
   ]
  },
  {
   "cell_type": "code",
   "execution_count": 7,
   "metadata": {},
   "outputs": [
    {
     "data": {
      "text/plain": [
       "False"
      ]
     },
     "execution_count": 7,
     "metadata": {},
     "output_type": "execute_result"
    }
   ],
   "source": [
    "df.isnull().values.any()"
   ]
  },
  {
   "cell_type": "markdown",
   "metadata": {},
   "source": [
    "#  Preprocessing Data\n",
    "\n",
    "-  Munging\n",
    "\n",
    "-  Transformation\n",
    "\n",
    "-  Reduction by PCA"
   ]
  },
  {
   "cell_type": "markdown",
   "metadata": {},
   "source": [
    "### Munging"
   ]
  },
  {
   "cell_type": "code",
   "execution_count": 8,
   "metadata": {
    "collapsed": true
   },
   "outputs": [],
   "source": [
    "df_features, df_labels = df.drop(['Churn?'], axis=1), df['Churn?']"
   ]
  },
  {
   "cell_type": "code",
   "execution_count": 9,
   "metadata": {
    "collapsed": true
   },
   "outputs": [],
   "source": [
    "y = np.where(df_labels == 'True.',1,0)"
   ]
  },
  {
   "cell_type": "code",
   "execution_count": 10,
   "metadata": {},
   "outputs": [
    {
     "data": {
      "text/plain": [
       "array([0, 0, 0, ..., 0, 0, 0])"
      ]
     },
     "execution_count": 10,
     "metadata": {},
     "output_type": "execute_result"
    }
   ],
   "source": [
    "y"
   ]
  },
  {
   "cell_type": "code",
   "execution_count": 11,
   "metadata": {
    "collapsed": true
   },
   "outputs": [],
   "source": [
    "df_features = df_features.drop(['State','Area Code','Phone'],axis=1)"
   ]
  },
  {
   "cell_type": "code",
   "execution_count": 12,
   "metadata": {
    "collapsed": true
   },
   "outputs": [],
   "source": [
    "boolean_cols = [\"Int'l Plan\",\"VMail Plan\"]\n",
    "df_features[boolean_cols] = df_features[boolean_cols] == 'yes'"
   ]
  },
  {
   "cell_type": "code",
   "execution_count": 13,
   "metadata": {},
   "outputs": [
    {
     "data": {
      "text/html": [
       "<div>\n",
       "<style>\n",
       "    .dataframe thead tr:only-child th {\n",
       "        text-align: right;\n",
       "    }\n",
       "\n",
       "    .dataframe thead th {\n",
       "        text-align: left;\n",
       "    }\n",
       "\n",
       "    .dataframe tbody tr th {\n",
       "        vertical-align: top;\n",
       "    }\n",
       "</style>\n",
       "<table border=\"1\" class=\"dataframe\">\n",
       "  <thead>\n",
       "    <tr style=\"text-align: right;\">\n",
       "      <th></th>\n",
       "      <th>Account Length</th>\n",
       "      <th>Int'l Plan</th>\n",
       "      <th>VMail Plan</th>\n",
       "      <th>VMail Message</th>\n",
       "      <th>Day Mins</th>\n",
       "      <th>Day Calls</th>\n",
       "      <th>Day Charge</th>\n",
       "      <th>Eve Mins</th>\n",
       "      <th>Eve Calls</th>\n",
       "      <th>Eve Charge</th>\n",
       "      <th>Night Mins</th>\n",
       "      <th>Night Calls</th>\n",
       "      <th>Night Charge</th>\n",
       "      <th>Intl Mins</th>\n",
       "      <th>Intl Calls</th>\n",
       "      <th>Intl Charge</th>\n",
       "      <th>CustServ Calls</th>\n",
       "    </tr>\n",
       "  </thead>\n",
       "  <tbody>\n",
       "    <tr>\n",
       "      <th>0</th>\n",
       "      <td>128</td>\n",
       "      <td>False</td>\n",
       "      <td>True</td>\n",
       "      <td>25</td>\n",
       "      <td>265.1</td>\n",
       "      <td>110</td>\n",
       "      <td>45.07</td>\n",
       "      <td>197.4</td>\n",
       "      <td>99</td>\n",
       "      <td>16.78</td>\n",
       "      <td>244.7</td>\n",
       "      <td>91</td>\n",
       "      <td>11.01</td>\n",
       "      <td>10.0</td>\n",
       "      <td>3</td>\n",
       "      <td>2.70</td>\n",
       "      <td>1</td>\n",
       "    </tr>\n",
       "    <tr>\n",
       "      <th>1</th>\n",
       "      <td>107</td>\n",
       "      <td>False</td>\n",
       "      <td>True</td>\n",
       "      <td>26</td>\n",
       "      <td>161.6</td>\n",
       "      <td>123</td>\n",
       "      <td>27.47</td>\n",
       "      <td>195.5</td>\n",
       "      <td>103</td>\n",
       "      <td>16.62</td>\n",
       "      <td>254.4</td>\n",
       "      <td>103</td>\n",
       "      <td>11.45</td>\n",
       "      <td>13.7</td>\n",
       "      <td>3</td>\n",
       "      <td>3.70</td>\n",
       "      <td>1</td>\n",
       "    </tr>\n",
       "    <tr>\n",
       "      <th>2</th>\n",
       "      <td>137</td>\n",
       "      <td>False</td>\n",
       "      <td>False</td>\n",
       "      <td>0</td>\n",
       "      <td>243.4</td>\n",
       "      <td>114</td>\n",
       "      <td>41.38</td>\n",
       "      <td>121.2</td>\n",
       "      <td>110</td>\n",
       "      <td>10.30</td>\n",
       "      <td>162.6</td>\n",
       "      <td>104</td>\n",
       "      <td>7.32</td>\n",
       "      <td>12.2</td>\n",
       "      <td>5</td>\n",
       "      <td>3.29</td>\n",
       "      <td>0</td>\n",
       "    </tr>\n",
       "    <tr>\n",
       "      <th>3</th>\n",
       "      <td>84</td>\n",
       "      <td>True</td>\n",
       "      <td>False</td>\n",
       "      <td>0</td>\n",
       "      <td>299.4</td>\n",
       "      <td>71</td>\n",
       "      <td>50.90</td>\n",
       "      <td>61.9</td>\n",
       "      <td>88</td>\n",
       "      <td>5.26</td>\n",
       "      <td>196.9</td>\n",
       "      <td>89</td>\n",
       "      <td>8.86</td>\n",
       "      <td>6.6</td>\n",
       "      <td>7</td>\n",
       "      <td>1.78</td>\n",
       "      <td>2</td>\n",
       "    </tr>\n",
       "    <tr>\n",
       "      <th>4</th>\n",
       "      <td>75</td>\n",
       "      <td>True</td>\n",
       "      <td>False</td>\n",
       "      <td>0</td>\n",
       "      <td>166.7</td>\n",
       "      <td>113</td>\n",
       "      <td>28.34</td>\n",
       "      <td>148.3</td>\n",
       "      <td>122</td>\n",
       "      <td>12.61</td>\n",
       "      <td>186.9</td>\n",
       "      <td>121</td>\n",
       "      <td>8.41</td>\n",
       "      <td>10.1</td>\n",
       "      <td>3</td>\n",
       "      <td>2.73</td>\n",
       "      <td>3</td>\n",
       "    </tr>\n",
       "  </tbody>\n",
       "</table>\n",
       "</div>"
      ],
      "text/plain": [
       "   Account Length  Int'l Plan  VMail Plan  VMail Message  Day Mins  Day Calls  \\\n",
       "0             128       False        True             25     265.1        110   \n",
       "1             107       False        True             26     161.6        123   \n",
       "2             137       False       False              0     243.4        114   \n",
       "3              84        True       False              0     299.4         71   \n",
       "4              75        True       False              0     166.7        113   \n",
       "\n",
       "   Day Charge  Eve Mins  Eve Calls  Eve Charge  Night Mins  Night Calls  \\\n",
       "0       45.07     197.4         99       16.78       244.7           91   \n",
       "1       27.47     195.5        103       16.62       254.4          103   \n",
       "2       41.38     121.2        110       10.30       162.6          104   \n",
       "3       50.90      61.9         88        5.26       196.9           89   \n",
       "4       28.34     148.3        122       12.61       186.9          121   \n",
       "\n",
       "   Night Charge  Intl Mins  Intl Calls  Intl Charge  CustServ Calls  \n",
       "0         11.01       10.0           3         2.70               1  \n",
       "1         11.45       13.7           3         3.70               1  \n",
       "2          7.32       12.2           5         3.29               0  \n",
       "3          8.86        6.6           7         1.78               2  \n",
       "4          8.41       10.1           3         2.73               3  "
      ]
     },
     "execution_count": 13,
     "metadata": {},
     "output_type": "execute_result"
    }
   ],
   "source": [
    "df_features.head()"
   ]
  },
  {
   "cell_type": "code",
   "execution_count": 14,
   "metadata": {
    "collapsed": true
   },
   "outputs": [],
   "source": [
    "\n",
    "X = df_features.as_matrix().astype(np.float)"
   ]
  },
  {
   "cell_type": "code",
   "execution_count": 15,
   "metadata": {},
   "outputs": [
    {
     "data": {
      "text/plain": [
       "array([[ 128.  ,    0.  ,    1.  , ...,    3.  ,    2.7 ,    1.  ],\n",
       "       [ 107.  ,    0.  ,    1.  , ...,    3.  ,    3.7 ,    1.  ],\n",
       "       [ 137.  ,    0.  ,    0.  , ...,    5.  ,    3.29,    0.  ],\n",
       "       ..., \n",
       "       [  28.  ,    0.  ,    0.  , ...,    6.  ,    3.81,    2.  ],\n",
       "       [ 184.  ,    1.  ,    0.  , ...,   10.  ,    1.35,    2.  ],\n",
       "       [  74.  ,    0.  ,    1.  , ...,    4.  ,    3.7 ,    0.  ]])"
      ]
     },
     "execution_count": 15,
     "metadata": {},
     "output_type": "execute_result"
    }
   ],
   "source": [
    "X"
   ]
  },
  {
   "cell_type": "markdown",
   "metadata": {},
   "source": [
    "### Transformation"
   ]
  },
  {
   "cell_type": "markdown",
   "metadata": {},
   "source": [
    "Normalize the data"
   ]
  },
  {
   "cell_type": "code",
   "execution_count": 16,
   "metadata": {
    "collapsed": true
   },
   "outputs": [],
   "source": [
    "from sklearn.preprocessing import StandardScaler\n",
    "scaler = StandardScaler()\n",
    "X = scaler.fit_transform(X)"
   ]
  },
  {
   "cell_type": "code",
   "execution_count": 17,
   "metadata": {},
   "outputs": [
    {
     "name": "stdout",
     "output_type": "stream",
     "text": [
      "Feature space holds 3333 observations and 17 features\n",
      "Unique target labels: [0 1]\n"
     ]
    }
   ],
   "source": [
    "print (\"Feature space holds %d observations and %d features\" % X.shape)\n",
    "print (\"Unique target labels:\", np.unique(y))"
   ]
  },
  {
   "cell_type": "markdown",
   "metadata": {},
   "source": [
    "## Dimension Reduction by PCA"
   ]
  },
  {
   "cell_type": "markdown",
   "metadata": {},
   "source": [
    "In machine learning and statistics, dimensionality reduction or dimension reduction is the process of reducing the number of random variables under consideration,via obtaining a set of principal variables. It can be divided into feature selection and feature extraction."
   ]
  },
  {
   "cell_type": "markdown",
   "metadata": {},
   "source": [
    "### PCA from Scratch"
   ]
  },
  {
   "cell_type": "markdown",
   "metadata": {},
   "source": [
    "The main linear technique for dimensionality reduction, principal component analysis, performs a linear mapping of the data to a lower-dimensional space in such a way that the variance of the data in the low-dimensional representation is maximized. In practice, the covariance (and sometimes the correlation) matrix of the data is constructed and the eigen vectors on this matrix are computed. The eigen vectors that correspond to the largest eigenvalues (the principal components) can now be used to reconstruct a large fraction of the variance of the original data. Moreover, the first few eigen vectors can often be interpreted in terms of the large-scale physical behavior of the system. The original space (with dimension of the number of points) has been reduced (with data loss, but hopefully retaining the most important variance) to the space spanned by a few eigenvectors."
   ]
  },
  {
   "cell_type": "code",
   "execution_count": 18,
   "metadata": {
    "collapsed": true
   },
   "outputs": [],
   "source": [
    "# Standardize feature space to have mean 0 and variance 1\n",
    "X_std = (X-np.mean(X,axis = 0))/np.std(X,axis = 0)\n"
   ]
  },
  {
   "cell_type": "code",
   "execution_count": 19,
   "metadata": {},
   "outputs": [
    {
     "name": "stdout",
     "output_type": "stream",
     "text": [
      "Covariance matrix of X: \n",
      "[[  1.00030012e+00   2.47420780e-02   2.91928494e-03  -4.62921323e-03\n",
      "    6.21788608e-03   3.84814279e-02   6.21599968e-03  -6.75916995e-03\n",
      "    1.92657473e-02  -6.74732613e-03  -8.95787949e-03  -1.31802296e-02\n",
      "   -8.96222348e-03   9.51675765e-03   2.06676293e-02   9.54853965e-03\n",
      "   -3.79707816e-03]\n",
      " [  2.47420780e-02   1.00030012e+00   6.00817328e-03   8.74811060e-03\n",
      "    4.94106488e-02   3.75575272e-03   4.94128865e-02   1.91057448e-02\n",
      "    6.11541183e-03   1.91118865e-02  -2.89134288e-02   1.24549230e-02\n",
      "   -2.89214427e-02   4.58845097e-02   1.73715552e-02   4.57938694e-02\n",
      "   -2.45293158e-02]\n",
      " [  2.91928494e-03   6.00817328e-03   1.00030012e+00   9.57213835e-01\n",
      "   -1.68457413e-03  -1.10892293e-02  -1.68613490e-03   2.15515117e-02\n",
      "   -6.44637779e-03   2.15649707e-02   6.08048104e-03   1.55571952e-02\n",
      "    6.06552841e-03  -1.31826651e-03   7.61988094e-03  -1.27664995e-03\n",
      "   -1.78292934e-02]\n",
      " [ -4.62921323e-03   8.74811060e-03   9.57213835e-01   1.00030012e+00\n",
      "    7.78507674e-04  -9.55093323e-03   7.75756209e-04   1.75673050e-02\n",
      "   -5.86611130e-03   1.75830556e-02   7.68344120e-03   7.12520069e-03\n",
      "    7.66559034e-03   2.85705308e-03   1.39615275e-02   2.88452335e-03\n",
      "   -1.32665634e-02]\n",
      " [  6.21788608e-03   4.94106488e-02  -1.68457413e-03   7.78507674e-04\n",
      "    1.00030012e+00   6.75243981e-03   1.00030007e+00   7.04462459e-03\n",
      "    1.57737258e-02   7.03114481e-03   4.32466411e-03   2.29793500e-02\n",
      "    4.30164767e-03  -1.01576332e-02   8.03576792e-03  -1.00950030e-02\n",
      "   -1.34272149e-02]\n",
      " [  3.84814279e-02   3.75575272e-03  -1.10892293e-02  -9.55093323e-03\n",
      "    6.75243981e-03   1.00030012e+00   6.75498867e-03  -2.14578458e-02\n",
      "    6.46405306e-03  -2.14557000e-02   2.29447294e-02  -1.95628348e-02\n",
      "    2.29335185e-02   2.15712664e-02   4.57564106e-03   2.16725976e-02\n",
      "   -1.89476152e-02]\n",
      " [  6.21599968e-03   4.94128865e-02  -1.68613490e-03   7.75756209e-04\n",
      "    1.00030007e+00   6.75498867e-03   1.00030012e+00   7.05172292e-03\n",
      "    1.57740148e-02   7.03824318e-03   4.32517706e-03   2.29793140e-02\n",
      "    4.30215156e-03  -1.01599099e-02   8.03398241e-03  -1.00972867e-02\n",
      "   -1.34309991e-02]\n",
      " [ -6.75916995e-03   1.91057448e-02   2.15515117e-02   1.75673050e-02\n",
      "    7.04462459e-03  -2.14578458e-02   7.05172292e-03   1.00030012e+00\n",
      "   -1.14335386e-02   1.00029990e+00  -1.25874545e-02   7.58791968e-03\n",
      "   -1.25965851e-02  -1.10380261e-02   2.54205443e-03  -1.10699426e-02\n",
      "   -1.29884498e-02]\n",
      " [  1.92657473e-02   6.11541183e-03  -6.44637779e-03  -5.86611130e-03\n",
      "    1.57737258e-02   6.46405306e-03   1.57740148e-02  -1.14335386e-02\n",
      "    1.00030012e+00  -1.14263225e-02  -2.09339609e-03   7.71201938e-03\n",
      "   -2.05660135e-03   8.70549256e-03   1.74389243e-02   8.67646084e-03\n",
      "    2.42330176e-03]\n",
      " [ -6.74732613e-03   1.91118865e-02   2.15649707e-02   1.75830556e-02\n",
      "    7.03114481e-03  -2.14557000e-02   7.03824318e-03   1.00029990e+00\n",
      "   -1.14263225e-02   1.00030012e+00  -1.25957995e-02   7.59812263e-03\n",
      "   -1.26049239e-02  -1.10458961e-02   2.54222076e-03  -1.10778226e-02\n",
      "   -1.29913047e-02]\n",
      " [ -8.95787949e-03  -2.89134288e-02   6.08048104e-03   7.68344120e-03\n",
      "    4.32466411e-03   2.29447294e-02   4.32517706e-03  -1.25874545e-02\n",
      "   -2.09339609e-03  -1.25957995e-02   1.00030012e+00   1.12072188e-02\n",
      "    1.00029933e+00  -1.52118613e-02  -1.23571399e-02  -1.51844049e-02\n",
      "   -9.29040010e-03]\n",
      " [ -1.31802296e-02   1.24549230e-02   1.55571952e-02   7.12520069e-03\n",
      "    2.29793500e-02  -1.95628348e-02   2.29793140e-02   7.58791968e-03\n",
      "    7.71201938e-03   7.59812263e-03   1.12072188e-02   1.00030012e+00\n",
      "    1.11911774e-02  -1.36090796e-02   3.04670943e-04  -1.36342603e-02\n",
      "   -1.28057694e-02]\n",
      " [ -8.96222348e-03  -2.89214427e-02   6.06552841e-03   7.66559034e-03\n",
      "    4.30164767e-03   2.29335185e-02   4.30215156e-03  -1.25965851e-02\n",
      "   -2.05660135e-03  -1.26049239e-02   1.00029933e+00   1.11911774e-02\n",
      "    1.00030012e+00  -1.52180917e-02  -1.23329153e-02  -1.51906962e-02\n",
      "   -9.27973778e-03]\n",
      " [  9.51675765e-03   4.58845097e-02  -1.31826651e-03   2.85705308e-03\n",
      "   -1.01576332e-02   2.15712664e-02  -1.01599099e-02  -1.10380261e-02\n",
      "    8.70549256e-03  -1.10458961e-02  -1.52118613e-02  -1.36090796e-02\n",
      "   -1.52180917e-02   1.00030012e+00   3.23135791e-02   1.00029286e+00\n",
      "   -9.64257265e-03]\n",
      " [  2.06676293e-02   1.73715552e-02   7.61988094e-03   1.39615275e-02\n",
      "    8.03576792e-03   4.57564106e-03   8.03398241e-03   2.54205443e-03\n",
      "    1.74389243e-02   2.54222076e-03  -1.23571399e-02   3.04670943e-04\n",
      "   -1.23329153e-02   3.23135791e-02   1.00030012e+00   3.23818609e-02\n",
      "   -1.75658695e-02]\n",
      " [  9.54853965e-03   4.57938694e-02  -1.27664995e-03   2.88452335e-03\n",
      "   -1.00950030e-02   2.16725976e-02  -1.00972867e-02  -1.10699426e-02\n",
      "    8.67646084e-03  -1.10778226e-02  -1.51844049e-02  -1.36342603e-02\n",
      "   -1.51906962e-02   1.00029286e+00   3.23818609e-02   1.00030012e+00\n",
      "   -9.67763593e-03]\n",
      " [ -3.79707816e-03  -2.45293158e-02  -1.78292934e-02  -1.32665634e-02\n",
      "   -1.34272149e-02  -1.89476152e-02  -1.34309991e-02  -1.29884498e-02\n",
      "    2.42330176e-03  -1.29913047e-02  -9.29040010e-03  -1.28057694e-02\n",
      "   -9.27973778e-03  -9.64257265e-03  -1.75658695e-02  -9.67763593e-03\n",
      "    1.00030012e+00]]\n"
     ]
    }
   ],
   "source": [
    "# Step 1: Find covariance matrix of X\n",
    "\n",
    "# Obtain covariance matrix for X (note columns are the features)\n",
    "cov_matrix = np.cov(X_std, rowvar=False)\n",
    "# Note that covariance matrix is 8x8 since their are 8 features\n",
    "print('Covariance matrix of X: \\n%s' %cov_matrix)"
   ]
  },
  {
   "cell_type": "code",
   "execution_count": 20,
   "metadata": {},
   "outputs": [
    {
     "name": "stdout",
     "output_type": "stream",
     "text": [
      "Eigenvectors of Cov(X): \n",
      "[[ -5.96656390e-03   1.49844425e-02   7.00971407e-03   4.47210115e-03\n",
      "   -1.92535030e-02   5.90465668e-03   5.80693388e-01  -2.25130268e-01\n",
      "   -5.95989942e-01   1.25681311e-01   2.82881677e-01  -2.37174652e-01\n",
      "    3.22650055e-01  -1.93756106e-05   3.59134827e-06  -8.46260328e-06\n",
      "    1.47681442e-06]\n",
      " [  4.46565765e-03   7.93899689e-03   6.78254644e-02   3.83846608e-02\n",
      "   -7.39718760e-02  -2.11921206e-03   3.24789587e-01   3.46815285e-01\n",
      "    3.91853543e-01  -1.63825995e-01  -3.89393153e-01  -2.19701709e-01\n",
      "    6.18315355e-01   6.72050949e-05   4.67841675e-06  -4.42368080e-06\n",
      "   -1.54115084e-06]\n",
      " [ -4.87092809e-01  -1.70748378e-01   1.62733995e-01   4.03309250e-01\n",
      "    2.09154876e-01  -7.07121017e-01  -3.31625062e-03  -2.11208294e-02\n",
      "    7.81965480e-04   6.77423989e-03   1.09069606e-04  -1.25929617e-02\n",
      "   -4.09713614e-03  -1.32935497e-04  -2.10429261e-05   1.56639028e-05\n",
      "   -8.83708472e-06]\n",
      " [ -4.87456242e-01  -1.68438564e-01   1.61177205e-01   4.05890391e-01\n",
      "    2.06304943e-01   7.07004223e-01  -4.81870044e-03  -2.50055260e-02\n",
      "    1.04261774e-02   8.72226605e-03  -4.86436685e-03  -3.41586144e-03\n",
      "   -2.10677249e-03   1.07177947e-04   3.24365740e-05  -2.62485254e-05\n",
      "    1.05738024e-05]\n",
      " [ -5.25242620e-02  -3.18438881e-01   5.00397881e-02   9.76671697e-02\n",
      "   -6.16437549e-01  -9.37510170e-04  -3.60500550e-02  -3.88912482e-02\n",
      "   -1.70618573e-02   1.08848993e-03   1.08250025e-02   1.81857167e-02\n",
      "   -1.57055206e-02   3.14017801e-04   4.34175436e-03  -2.71587975e-04\n",
      "   -7.07093261e-01]\n",
      " [  1.52170134e-02   2.26982862e-02  -3.35630107e-02   2.82684197e-02\n",
      "   -2.36286185e-02  -1.11174931e-03   4.68560019e-01  -3.72599022e-01\n",
      "    5.49028366e-01  -2.67101271e-01   2.52566810e-01  -2.36325267e-01\n",
      "   -3.82066376e-01  -6.96016663e-05   7.78679913e-06  -1.75088543e-06\n",
      "   -1.91919928e-06]\n",
      " [ -5.25206210e-02  -3.18441963e-01   5.00419906e-02   9.76658974e-02\n",
      "   -6.16436363e-01  -9.56448956e-04  -3.60483646e-02  -3.88901576e-02\n",
      "   -1.70600011e-02   1.08506907e-03   1.08223906e-02   1.81841453e-02\n",
      "   -1.57077107e-02  -3.61554210e-04  -4.32579060e-03   2.81641065e-04\n",
      "    7.07093471e-01]\n",
      " [  3.81958594e-01  -3.30332996e-01   4.56475407e-01   4.28396967e-02\n",
      "    1.83394896e-01   1.38722593e-03   6.64258171e-03  -2.48795625e-02\n",
      "    4.00588341e-03   1.25580385e-02   8.02820855e-03  -5.12626549e-03\n",
      "   -1.48204272e-02   4.48124455e-04  -3.87986397e-03  -7.07095845e-01\n",
      "    2.50561585e-04]\n",
      " [ -2.44273835e-03   8.65051823e-03  -4.59753180e-03   4.28557214e-03\n",
      "   -3.09885083e-02  -3.95665900e-04   2.77077394e-01   1.20925145e-01\n",
      "    3.57612527e-02   7.21431529e-01  -4.37047307e-01  -1.98441580e-01\n",
      "   -3.94198874e-01   2.24542420e-05  -2.60218875e-05  -4.94768097e-06\n",
      "   -4.54439018e-07]\n",
      " [  3.81947867e-01  -3.30332918e-01   4.56479682e-01   4.28380974e-02\n",
      "    1.83406027e-01   1.42915653e-03   6.65518702e-03  -2.48718065e-02\n",
      "    4.00298490e-03   1.25623883e-02   8.03141350e-03  -5.13699666e-03\n",
      "   -1.48188691e-02  -4.26843608e-04   3.88594462e-03   7.07096033e-01\n",
      "   -2.55490827e-04]\n",
      " [  2.74490253e-01  -2.27956918e-01  -4.72777314e-01   3.67244381e-01\n",
      "    1.12470483e-01  -6.24353405e-04   6.51306753e-03   8.58191907e-03\n",
      "   -1.60128982e-03   1.14965737e-02  -1.42760315e-02   8.89881915e-03\n",
      "    3.34626608e-02   3.25894889e-03  -7.07075574e-01   3.88624901e-03\n",
      "   -4.33381519e-03]\n",
      " [ -7.62469575e-03  -3.97037354e-02  -1.22869975e-03   1.13296641e-02\n",
      "   -1.44669810e-02   6.27298492e-03  -9.40610257e-02   6.73484011e-01\n",
      "    4.62474503e-02   8.56697362e-02   5.76158113e-01  -4.22769481e-01\n",
      "   -1.24050141e-01   1.78418657e-05   1.13991615e-05  -7.56379520e-06\n",
      "    2.64517777e-07]\n",
      " [  2.74494792e-01  -2.27946247e-01  -4.72786183e-01   3.67232123e-01\n",
      "    1.12480444e-01  -6.77319735e-04   6.52185355e-03   8.58281718e-03\n",
      "   -1.59756043e-03   1.15361730e-02  -1.42930763e-02   8.92111167e-03\n",
      "    3.34554076e-02  -3.27506919e-03   7.07075005e-01  -3.88027175e-03\n",
      "    4.33342361e-03]\n",
      " [  1.95931126e-01   4.55096657e-01   1.89482315e-01   4.33276192e-01\n",
      "   -1.62865304e-01  -1.24933667e-03  -5.35851447e-02  -1.06384060e-02\n",
      "   -2.54186676e-02   5.32726726e-03   1.37141861e-02  -1.23093472e-02\n",
      "   -1.84549839e-02  -7.07099269e-01  -3.26471708e-03  -4.16625370e-04\n",
      "   -3.56831547e-04]\n",
      " [ -3.80582638e-03   2.38288747e-02   3.07280193e-02   3.17729084e-02\n",
      "   -2.03591024e-02  -4.74012403e-03   3.76648948e-01   2.46319429e-01\n",
      "    1.96195918e-01   2.36508447e-01   3.06235025e-01   7.76098054e-01\n",
      "    6.28661386e-02  -4.89691707e-05  -1.78218220e-05   3.74038789e-07\n",
      "    1.06305820e-06]\n",
      " [  1.95905836e-01   4.55077549e-01   1.89460639e-01   4.33306562e-01\n",
      "   -1.62897902e-01  -1.48989781e-03  -5.35263402e-02  -1.07070488e-02\n",
      "   -2.54220373e-02   5.29359348e-03   1.37956641e-02  -1.22433630e-02\n",
      "   -1.85369552e-02   7.07098736e-01   3.26973762e-03   4.22727205e-04\n",
      "    3.58464029e-04]\n",
      " [ -2.67862033e-03   1.64594685e-02  -1.41798638e-02  -3.44581055e-02\n",
      "    9.20835707e-03  -3.45535588e-03  -3.18953786e-01  -3.94486445e-01\n",
      "    3.81946421e-01   5.49109877e-01   2.94345196e-01  -1.33581175e-01\n",
      "    4.34738915e-01   2.29237917e-05  -6.86411821e-06   2.00607831e-06\n",
      "    2.52885927e-06]]\n",
      "\n",
      "Eigenvalues of Cov(X): \n",
      "[  1.91875382e+00   2.05036198e+00   2.03792996e+00   1.97799449e+00\n",
      "   1.99797667e+00   4.29587012e-02   1.06914360e+00   1.02768958e+00\n",
      "   9.45368792e-01   1.00793156e+00   9.64417567e-01   9.84922680e-01\n",
      "   9.79644349e-01   7.24240334e-06   7.83492672e-07   2.23542548e-07\n",
      "   4.77400090e-08]\n"
     ]
    }
   ],
   "source": [
    "# Step 2: Obtain eigenvectors and eigenvalues\n",
    "\n",
    "# Obtain eigenvalues and eigenvectors \n",
    "eigenvalues, eigenvectors, = np.linalg.eig(cov_matrix)\n",
    "\n",
    "# eigenvectors is a 6x6 matrix\n",
    "print('Eigenvectors of Cov(X): \\n%s' %eigenvectors)\n",
    "\n",
    "# eigenvalues is a 6x1 vector\n",
    "print('\\nEigenvalues of Cov(X): \\n%s' %eigenvalues)"
   ]
  },
  {
   "cell_type": "code",
   "execution_count": 21,
   "metadata": {},
   "outputs": [
    {
     "name": "stdout",
     "output_type": "stream",
     "text": [
      "Eigenvalues in descending order: \n",
      "[2.0503619781546227, 2.037929963449685, 1.9979766718000467, 1.9779944898559132, 1.9187538181855091, 1.0691435976378134, 1.0276895750473627, 1.0079315611845607, 0.9849226796561128, 0.97964434908575748, 0.96441756671493495, 0.94536879171370003, 0.042958701151754319, 7.2424033372177536e-06, 7.8349267165430604e-07, 2.2354254794100355e-07, 4.7740008952833932e-08]\n"
     ]
    }
   ],
   "source": [
    "# Step 3  Sort eigenvalues in descending order\n",
    "\n",
    "# Make a set of (eigenvalue, eigenvector) pairs\n",
    "eig_pairs = [(eigenvalues[index], eigenvectors[:,index]) for index in range(len(eigenvalues))]\n",
    "\n",
    "# Sort the (eigenvalue, eigenvector) pairs from highest to lowest with respect to eigenvalue\n",
    "eig_pairs.sort()\n",
    "eig_pairs.reverse()\n",
    "\n",
    "# Extract the descending ordered eigenvalues and eigenvectors\n",
    "eigvalues_sort = [eig_pairs[index][0] for index in range(len(eigenvalues))]\n",
    "eigvectors_sort = [eig_pairs[index][1] for index in range(len(eigenvalues))]\n",
    "\n",
    "# Let's confirm our sorting worked, print out eigenvalues\n",
    "print('Eigenvalues in descending order: \\n%s' %eigvalues_sort)"
   ]
  },
  {
   "cell_type": "code",
   "execution_count": 22,
   "metadata": {},
   "outputs": [
    {
     "name": "stdout",
     "output_type": "stream",
     "text": [
      "Cumulative proportion of variance explained vector: \n",
      "[ 0.12057334  0.24041561  0.35790839  0.47422609  0.5870601   0.64993203\n",
      "  0.71036622  0.76963853  0.82755777  0.88516662  0.94188004  0.99747329\n",
      "  0.99999951  0.99999994  0.99999998  1.          1.        ]\n"
     ]
    },
    {
     "data": {
      "image/png": "[encoded data removed]",
      "text/plain": [
       "<matplotlib.figure.Figure at 0x7f5560a20ac8>"
      ]
     },
     "metadata": {},
     "output_type": "display_data"
    }
   ],
   "source": [
    "from matplotlib import pyplot as plt\n",
    "# Find cumulative variance of each principle component\n",
    "var_comp_sum = np.cumsum(eigvalues_sort)/sum(eigvalues_sort)\n",
    "\n",
    "# Show cumulative proportion of varaince with respect to components\n",
    "print(\"Cumulative proportion of variance explained vector: \\n%s\" %var_comp_sum)\n",
    "\n",
    "# x-axis for number of principal components kept\n",
    "num_comp = range(1,len(eigvalues_sort)+1)\n",
    "\n",
    "# Chart title\n",
    "plt.title('Cum. Prop. Variance Explain and Components Kept')\n",
    "\n",
    "# x-label\n",
    "plt.xlabel('Principal Components')\n",
    "\n",
    "# y-label\n",
    "plt.ylabel('Cum. Prop. Variance Expalined')\n",
    "\n",
    "# Scatter plot of cumulative variance explained and principal components kept\n",
    "plt.scatter(num_comp, var_comp_sum)\n",
    "\n",
    "# Show scattor plot\n",
    "plt.show()"
   ]
  },
  {
   "cell_type": "markdown",
   "metadata": {},
   "source": [
    "Um.. Can you see that? I think I can reduce the data to 10 or 11 features."
   ]
  },
  {
   "cell_type": "code",
   "execution_count": 23,
   "metadata": {
    "collapsed": true
   },
   "outputs": [],
   "source": [
    "# Step 4: Project data onto 2d \n",
    "\n",
    "# Keep the first two principal components \n",
    "# P_reduce is 8 x 2 matrix\n",
    "P_reduce = np.array(eigvectors_sort[0:2]).transpose()\n",
    "\n",
    "# Let's project data onto 2D space\n",
    "# The projected data in 2D will be n x 2 matrix\n",
    "Proj_data_2D = np.dot(X_std,P_reduce)"
   ]
  },
  {
   "cell_type": "code",
   "execution_count": 24,
   "metadata": {},
   "outputs": [
    {
     "data": {
      "image/png": "[encoded data removed]",
      "text/plain": [
       "<matplotlib.figure.Figure at 0x7f55697b2160>"
      ]
     },
     "metadata": {},
     "output_type": "display_data"
    }
   ],
   "source": [
    "%matplotlib inline\n",
    "# Visualize data in 2D\n",
    "\n",
    "# Plot projected the data onto 2D (test negative for diabetes)\n",
    "negative = plt.scatter(Proj_data_2D[:,0][y == 0], Proj_data_2D[:,1][y == 0])\n",
    "\n",
    "# Plot projected the data onto 2D (test positive for diabetes)\n",
    "positive = plt.scatter(Proj_data_2D[:,0][y == 1], Proj_data_2D[:,1][y == 1], color = \"red\")\n",
    "\n",
    "\n",
    "# Chart title\n",
    "plt.title('PCA Dimensionality Reduction to 2D')\n",
    "\n",
    "# y-label\n",
    "plt.ylabel('Principal Component 2')\n",
    "\n",
    "# x-label\n",
    "plt.xlabel('Principal Component 1')\n",
    "\n",
    "# legend\n",
    "plt.legend([negative,positive],[\"Negative\", \"Positive\"])\n",
    "\n",
    "# Show scatter plot\n",
    "plt.show()"
   ]
  },
  {
   "cell_type": "code",
   "execution_count": 25,
   "metadata": {
    "collapsed": true
   },
   "outputs": [],
   "source": [
    "# Step 4: Project data onto 3d \n",
    "\n",
    "# Keep the first three principal components \n",
    "# P_reduce is k x 3 matrix\n",
    "P_reduce = np.array(eigvectors_sort[0:3]).transpose()\n",
    "\n",
    "# Let's project data onto 3D space\n",
    "# The projected data in 3D will be n x 3 matrix\n",
    "Proj_data_3D = np.dot(X_std,P_reduce)"
   ]
  },
  {
   "cell_type": "code",
   "execution_count": 26,
   "metadata": {},
   "outputs": [
    {
     "data": {
      "image/png": "[encoded data removed]",
      "text/plain": [
       "<matplotlib.figure.Figure at 0x7f555c193438>"
      ]
     },
     "metadata": {},
     "output_type": "display_data"
    }
   ],
   "source": [
    "# Visualize data in 3D\n",
    "from mpl_toolkits.mplot3d import Axes3D\n",
    "# Define 3D figure\n",
    "fig = plt.figure()\n",
    "ax = Axes3D(fig)\n",
    "\n",
    "# Scatter plot in 3D (test negative for churn)\n",
    "negative = ax.scatter(Proj_data_3D[:,0][y == 0], Proj_data_3D[:,1][y == 0], Proj_data_3D[:,2][y == 0])\n",
    "\n",
    "# Scatter plot in 3D (test positive for churn)\n",
    "positive = ax.scatter(Proj_data_3D[:,0][y == 1], Proj_data_3D[:,1][y == 1], Proj_data_3D[:,2][y == 1], color = \"red\")\n",
    "\n",
    "# Title \n",
    "ax.set_title('PCA Reduces Data to 3D')\n",
    "\n",
    "# x-label \n",
    "ax.set_xlabel('Principal Component 1')\n",
    "\n",
    "# y-label\n",
    "ax.set_ylabel('Principal Component 2')\n",
    "\n",
    "# z-label\n",
    "ax.set_zlabel('Principal Component 3')\n",
    "\n",
    "# legend\n",
    "plt.legend([negative,positive],[\"Negative\", \"Positive\"])\n",
    "\n",
    "# Show 3D plot\n",
    "plt.show()"
   ]
  },
  {
   "cell_type": "markdown",
   "metadata": {},
   "source": [
    "### short cut(PCA) : with scikit-learn"
   ]
  },
  {
   "cell_type": "code",
   "execution_count": 27,
   "metadata": {},
   "outputs": [
    {
     "data": {
      "text/plain": [
       "(3333, 17)"
      ]
     },
     "execution_count": 27,
     "metadata": {},
     "output_type": "execute_result"
    }
   ],
   "source": [
    "X.shape"
   ]
  },
  {
   "cell_type": "code",
   "execution_count": 28,
   "metadata": {},
   "outputs": [
    {
     "data": {
      "image/png": "[encoded data removed]",
      "text/plain": [
       "<matplotlib.figure.Figure at 0x7f555c1a9c18>"
      ]
     },
     "metadata": {},
     "output_type": "display_data"
    }
   ],
   "source": [
    "%matplotlib inline\n",
    "#PCA In Sklearn\n",
    "from sklearn.decomposition import PCA\n",
    "\n",
    "pca_full = PCA(n_components = None)\n",
    "pca_full.fit(X)\n",
    "\n",
    "plt.plot(range(0,17), pca_full.explained_variance_ratio_)\n",
    "plt.ylabel('Explained variance ratio')\n",
    "plt.xlabel('Principal components')\n",
    "#plt.xticks(np.arange(0,100,5))\n",
    "plt.show()"
   ]
  },
  {
   "cell_type": "code",
   "execution_count": 29,
   "metadata": {},
   "outputs": [
    {
     "name": "stdout",
     "output_type": "stream",
     "text": [
      "[[ 1.89314448 -0.3419874  -1.1252648  ..., -0.35197984 -0.30564949\n",
      "  -0.11465174]\n",
      " [-0.43319115 -0.26117814  0.81060346 ..., -0.77726165 -0.85409728\n",
      "   0.15426344]\n",
      " [-1.49095131 -0.55313299 -2.70992111 ..., -0.12374307 -0.95597972\n",
      "   0.21004733]\n",
      " ..., \n",
      " [-0.39022136  2.05427482 -0.01832004 ...,  1.41339245  0.00558379\n",
      "   0.73330735]\n",
      " [ 0.76780102 -0.15551399 -1.30045305 ..., -0.09318208  2.83925532\n",
      "   1.66923053]\n",
      " [ 1.18817973  1.41276264 -0.33745347 ...,  0.75505857 -0.75592435\n",
      "  -0.55132047]]\n",
      "\n",
      "[ 0.12057334  0.11984227  0.11749278  0.11631771  0.11283401  0.06287193\n",
      "  0.06043419  0.0592723   0.05791925  0.05760885  0.05671342]\n"
     ]
    }
   ],
   "source": [
    "x_scaled = StandardScaler().fit_transform(X)\n",
    "pca = PCA(n_components = 11)\n",
    "x_pca = pca.fit_transform(x_scaled)\n",
    "print(x_pca, end = '\\n\\n')\n",
    "print(pca.explained_variance_ratio_)"
   ]
  },
  {
   "cell_type": "code",
   "execution_count": 30,
   "metadata": {},
   "outputs": [
    {
     "data": {
      "text/plain": [
       "0.94188004354976684"
      ]
     },
     "execution_count": 30,
     "metadata": {},
     "output_type": "execute_result"
    }
   ],
   "source": [
    "sum(pca.explained_variance_ratio_)"
   ]
  },
  {
   "cell_type": "code",
   "execution_count": 31,
   "metadata": {},
   "outputs": [
    {
     "data": {
      "text/plain": [
       "(3333, 11)"
      ]
     },
     "execution_count": 31,
     "metadata": {},
     "output_type": "execute_result"
    }
   ],
   "source": [
    "x_pca.shape"
   ]
  },
  {
   "cell_type": "markdown",
   "metadata": {},
   "source": [
    "### Note:"
   ]
  },
  {
   "cell_type": "markdown",
   "metadata": {},
   "source": [
    "From the above, I have concluded that It would be reasonable to use PCA to reduce the data to 11 features(dimentions) to speed up the algorithm with retaining over almost 94% of the original data variation when I decided to use classification algorithms to predict outcome."
   ]
  },
  {
   "cell_type": "markdown",
   "metadata": {},
   "source": [
    "## Building and run ML models\n"
   ]
  },
  {
   "cell_type": "markdown",
   "metadata": {},
   "source": [
    "### Train and Test split"
   ]
  },
  {
   "cell_type": "code",
   "execution_count": 32,
   "metadata": {
    "collapsed": true
   },
   "outputs": [],
   "source": [
    "from sklearn.model_selection import train_test_split\n",
    "\n",
    "X_train, X_test, y_train, y_test = train_test_split(x_pca, y, test_size=0.2, random_state=0)"
   ]
  },
  {
   "cell_type": "code",
   "execution_count": 33,
   "metadata": {
    "collapsed": true
   },
   "outputs": [],
   "source": [
    "# Normalizing the data\n",
    "from sklearn.preprocessing import MinMaxScaler\n",
    "scaler = MinMaxScaler()\n",
    "X_train_scaled = scaler.fit_transform(X_train)\n",
    "X_test_scaled = scaler.transform(X_test)"
   ]
  },
  {
   "cell_type": "markdown",
   "metadata": {},
   "source": [
    "### LogisticRegression"
   ]
  },
  {
   "cell_type": "code",
   "execution_count": 34,
   "metadata": {},
   "outputs": [
    {
     "data": {
      "text/plain": [
       "LogisticRegression(C=1.0, class_weight=None, dual=False, fit_intercept=True,\n",
       "          intercept_scaling=1, max_iter=100, multi_class='ovr', n_jobs=1,\n",
       "          penalty='l2', random_state=None, solver='liblinear', tol=0.0001,\n",
       "          verbose=0, warm_start=False)"
      ]
     },
     "execution_count": 34,
     "metadata": {},
     "output_type": "execute_result"
    }
   ],
   "source": [
    "from sklearn.linear_model import LogisticRegression\n",
    "# Train the model\n",
    "LR_model = LogisticRegression()\n",
    "LR_model.fit(X_train, y_train)"
   ]
  },
  {
   "cell_type": "code",
   "execution_count": 35,
   "metadata": {},
   "outputs": [
    {
     "data": {
      "text/plain": [
       "0.85757121439280359"
      ]
     },
     "execution_count": 35,
     "metadata": {},
     "output_type": "execute_result"
    }
   ],
   "source": [
    "LR_model.score(X_test, y_test)"
   ]
  },
  {
   "cell_type": "code",
   "execution_count": 36,
   "metadata": {},
   "outputs": [
    {
     "name": "stdout",
     "output_type": "stream",
     "text": [
      "AUC: 0.556592479196\n"
     ]
    }
   ],
   "source": [
    "from sklearn.metrics import roc_auc_score\n",
    "\n",
    "# Predict the transformed test documents\n",
    "predictions = LR_model.predict(X_test)\n",
    "\n",
    "print('AUC:', roc_auc_score(y_test, predictions))"
   ]
  },
  {
   "cell_type": "markdown",
   "metadata": {},
   "source": [
    "### K-Nearest Neighbors  - KNeighborsClassifier"
   ]
  },
  {
   "cell_type": "code",
   "execution_count": 37,
   "metadata": {
    "collapsed": true
   },
   "outputs": [],
   "source": [
    "from sklearn.neighbors import KNeighborsClassifier\n",
    "\n",
    "knn = KNeighborsClassifier(n_neighbors = 5)"
   ]
  },
  {
   "cell_type": "code",
   "execution_count": 38,
   "metadata": {},
   "outputs": [
    {
     "data": {
      "text/plain": [
       "KNeighborsClassifier(algorithm='auto', leaf_size=30, metric='minkowski',\n",
       "           metric_params=None, n_jobs=1, n_neighbors=5, p=2,\n",
       "           weights='uniform')"
      ]
     },
     "execution_count": 38,
     "metadata": {},
     "output_type": "execute_result"
    }
   ],
   "source": [
    "knn.fit(X_train, y_train)"
   ]
  },
  {
   "cell_type": "code",
   "execution_count": 39,
   "metadata": {},
   "outputs": [
    {
     "data": {
      "text/plain": [
       "0.90404797601199405"
      ]
     },
     "execution_count": 39,
     "metadata": {},
     "output_type": "execute_result"
    }
   ],
   "source": [
    "knn.score(X_test, y_test)"
   ]
  },
  {
   "cell_type": "code",
   "execution_count": 40,
   "metadata": {},
   "outputs": [
    {
     "name": "stdout",
     "output_type": "stream",
     "text": [
      "AUC: 0.665273198304\n"
     ]
    }
   ],
   "source": [
    "from sklearn.metrics import roc_auc_score\n",
    "\n",
    "\n",
    "predictions = knn.predict(X_test)\n",
    "\n",
    "print('AUC:', roc_auc_score(y_test, predictions))"
   ]
  },
  {
   "cell_type": "markdown",
   "metadata": {},
   "source": [
    "### K-Nearest Neighbors - KNeighborsRegressor"
   ]
  },
  {
   "cell_type": "code",
   "execution_count": 41,
   "metadata": {
    "collapsed": true
   },
   "outputs": [],
   "source": [
    "from sklearn.neighbors import KNeighborsRegressor\n",
    "\n",
    "knnreg = KNeighborsRegressor(n_neighbors = 5)"
   ]
  },
  {
   "cell_type": "code",
   "execution_count": 42,
   "metadata": {},
   "outputs": [
    {
     "data": {
      "text/plain": [
       "KNeighborsRegressor(algorithm='auto', leaf_size=30, metric='minkowski',\n",
       "          metric_params=None, n_jobs=1, n_neighbors=5, p=2,\n",
       "          weights='uniform')"
      ]
     },
     "execution_count": 42,
     "metadata": {},
     "output_type": "execute_result"
    }
   ],
   "source": [
    "knnreg.fit(X_test, y_test)"
   ]
  },
  {
   "cell_type": "code",
   "execution_count": 43,
   "metadata": {},
   "outputs": [
    {
     "data": {
      "text/plain": [
       "0.44233396137541203"
      ]
     },
     "execution_count": 43,
     "metadata": {},
     "output_type": "execute_result"
    }
   ],
   "source": [
    "knnreg.score(X_test, y_test)"
   ]
  },
  {
   "cell_type": "code",
   "execution_count": 44,
   "metadata": {},
   "outputs": [
    {
     "name": "stdout",
     "output_type": "stream",
     "text": [
      "AUC: 0.949864578427\n"
     ]
    }
   ],
   "source": [
    "from sklearn.metrics import roc_auc_score\n",
    "\n",
    "\n",
    "predictions = knnreg.predict(X_test)\n",
    "\n",
    "print('AUC:', roc_auc_score(y_test, predictions))"
   ]
  },
  {
   "cell_type": "markdown",
   "metadata": {},
   "source": [
    "### Naive Bayes classifiers"
   ]
  },
  {
   "cell_type": "code",
   "execution_count": 45,
   "metadata": {
    "collapsed": true
   },
   "outputs": [],
   "source": [
    "from sklearn.naive_bayes import GaussianNB\n",
    "\n",
    "nbclf = GaussianNB()"
   ]
  },
  {
   "cell_type": "code",
   "execution_count": 46,
   "metadata": {},
   "outputs": [
    {
     "data": {
      "text/plain": [
       "GaussianNB(priors=None)"
      ]
     },
     "execution_count": 46,
     "metadata": {},
     "output_type": "execute_result"
    }
   ],
   "source": [
    "nbclf.fit(X_test, y_test)"
   ]
  },
  {
   "cell_type": "code",
   "execution_count": 47,
   "metadata": {},
   "outputs": [
    {
     "data": {
      "text/plain": [
       "0.8860569715142429"
      ]
     },
     "execution_count": 47,
     "metadata": {},
     "output_type": "execute_result"
    }
   ],
   "source": [
    "nbclf.score(X_test, y_test)"
   ]
  },
  {
   "cell_type": "code",
   "execution_count": 48,
   "metadata": {},
   "outputs": [
    {
     "name": "stdout",
     "output_type": "stream",
     "text": [
      "AUC: 0.659728764327\n"
     ]
    }
   ],
   "source": [
    "from sklearn.metrics import roc_auc_score\n",
    "\n",
    "\n",
    "predictions = nbclf.predict(X_test)\n",
    "\n",
    "print('AUC:', roc_auc_score(y_test, predictions))"
   ]
  },
  {
   "cell_type": "markdown",
   "metadata": {},
   "source": [
    "### Decision Trees"
   ]
  },
  {
   "cell_type": "code",
   "execution_count": 49,
   "metadata": {
    "collapsed": true
   },
   "outputs": [],
   "source": [
    "from sklearn.tree import DecisionTreeClassifier\n",
    "\n",
    "clf = DecisionTreeClassifier(max_depth = 4, min_samples_leaf = 8,\n",
    "                            random_state = 0)"
   ]
  },
  {
   "cell_type": "code",
   "execution_count": 50,
   "metadata": {},
   "outputs": [
    {
     "data": {
      "text/plain": [
       "DecisionTreeClassifier(class_weight=None, criterion='gini', max_depth=4,\n",
       "            max_features=None, max_leaf_nodes=None,\n",
       "            min_impurity_split=1e-07, min_samples_leaf=8,\n",
       "            min_samples_split=2, min_weight_fraction_leaf=0.0,\n",
       "            presort=False, random_state=0, splitter='best')"
      ]
     },
     "execution_count": 50,
     "metadata": {},
     "output_type": "execute_result"
    }
   ],
   "source": [
    "clf.fit(X_test, y_test)"
   ]
  },
  {
   "cell_type": "code",
   "execution_count": 51,
   "metadata": {},
   "outputs": [
    {
     "data": {
      "text/plain": [
       "0.91004497751124436"
      ]
     },
     "execution_count": 51,
     "metadata": {},
     "output_type": "execute_result"
    }
   ],
   "source": [
    "clf.score(X_test, y_test)"
   ]
  },
  {
   "cell_type": "code",
   "execution_count": 52,
   "metadata": {},
   "outputs": [
    {
     "name": "stdout",
     "output_type": "stream",
     "text": [
      "AUC: 0.741001334589\n"
     ]
    }
   ],
   "source": [
    "from sklearn.metrics import roc_auc_score\n",
    "\n",
    "\n",
    "predictions = clf.predict(X_test)\n",
    "\n",
    "print('AUC:', roc_auc_score(y_test, predictions))"
   ]
  },
  {
   "cell_type": "markdown",
   "metadata": {},
   "source": [
    "### Random Forests"
   ]
  },
  {
   "cell_type": "code",
   "execution_count": 53,
   "metadata": {},
   "outputs": [
    {
     "data": {
      "text/plain": [
       "GradientBoostingClassifier(criterion='friedman_mse', init=None,\n",
       "              learning_rate=0.1, loss='deviance', max_depth=3,\n",
       "              max_features=None, max_leaf_nodes=None,\n",
       "              min_impurity_split=1e-07, min_samples_leaf=1,\n",
       "              min_samples_split=2, min_weight_fraction_leaf=0.0,\n",
       "              n_estimators=100, presort='auto', random_state=0,\n",
       "              subsample=1.0, verbose=0, warm_start=False)"
      ]
     },
     "execution_count": 53,
     "metadata": {},
     "output_type": "execute_result"
    }
   ],
   "source": [
    "from sklearn.ensemble import GradientBoostingClassifier\n",
    "clf = GradientBoostingClassifier(random_state = 0)\n",
    "clf.fit(X_train, y_train)"
   ]
  },
  {
   "cell_type": "code",
   "execution_count": 54,
   "metadata": {},
   "outputs": [
    {
     "data": {
      "text/plain": [
       "0.90554722638680663"
      ]
     },
     "execution_count": 54,
     "metadata": {},
     "output_type": "execute_result"
    }
   ],
   "source": [
    "clf.score(X_test, y_test)"
   ]
  },
  {
   "cell_type": "code",
   "execution_count": 55,
   "metadata": {},
   "outputs": [
    {
     "name": "stdout",
     "output_type": "stream",
     "text": [
      "AUC: 0.70468283875\n"
     ]
    }
   ],
   "source": [
    "from sklearn.metrics import roc_auc_score\n",
    "\n",
    "\n",
    "predictions = clf.predict(X_test)\n",
    "\n",
    "print('AUC:', roc_auc_score(y_test, predictions))"
   ]
  },
  {
   "cell_type": "markdown",
   "metadata": {},
   "source": [
    "## Manual Neural Network\n",
    "\n",
    "- Build the Neural Network\n",
    "\n",
    "- Set the hyperparameters, train the NN and evaluate\n",
    "\n",
    "- Adapt SGD method to improve the accuracy\n",
    "\n",
    "- Shorcut with Scikit-learn\n",
    "\n"
   ]
  },
  {
   "cell_type": "code",
   "execution_count": 56,
   "metadata": {
    "collapsed": true
   },
   "outputs": [],
   "source": [
    "class MyNeuralNetwork(object):\n",
    "    def __init__(self, input_nodes, hidden_nodes, output_nodes, learning_rate):\n",
    "        # Set number of nodes in input, hidden and output layers.\n",
    "        self.input_nodes =  input_nodes\n",
    "        self.hidden_nodes = hidden_nodes\n",
    "        self.output_nodes = output_nodes\n",
    "\n",
    "        # Initialize weights\n",
    "        self.weights_0_1 = np.zeros((self.hidden_nodes,self.input_nodes))\n",
    "\n",
    "        self.weights_1_2 = np.random.normal(0.0, self.output_nodes**-0.5, \n",
    "                                       (self.output_nodes, self.hidden_nodes))\n",
    "        self.lr = learning_rate\n",
    "        \n",
    "        #### Set this to implemented sigmoid function ####\n",
    "        # Activation function is the sigmoid function\n",
    "        self.sigmoid_activation = lambda x : 1 / (1 + np.exp(-x))\n",
    "        self.sigmoid_output_2_derivative = lambda x: x * (1 - x)\n",
    "    \n",
    "    def train(self, inputs_array, targets_array):\n",
    "        # Convert inputs list to 2d array\n",
    "        inputs  = inputs_array.T\n",
    "        targets = np.array(targets_array, ndmin=2)\n",
    "        #targets = targets_array\n",
    "        m = inputs_array.shape[0] # number of records\n",
    "        \n",
    "        #### Implement the forward pass here ####\n",
    "        ### Forward pass ###\n",
    "        # Hidden layer\n",
    "        layer_1_inputs = np.dot(self.weights_0_1, inputs) # signals into hidden layer\n",
    "        layer_1 = layer_1_inputs # signals from hidden layer\n",
    "        \n",
    "        # Output layer\n",
    "        layer_2_inputs = np.dot(self.weights_1_2,layer_1) # signals into final output layer\n",
    "        layer_2 = self.sigmoid_activation(layer_2_inputs) # signals from final output layer\n",
    "        \n",
    "        #### Implement the backward pass here ####\n",
    "        ### Backward pass ###\n",
    "        \n",
    "        # Output error  \n",
    "        layer_2_errors = targets - layer_2  # Output layer error is the difference between desired target and actual output.\n",
    "        layer_2_delta = layer_2_errors * self.sigmoid_output_2_derivative(layer_2)\n",
    "        \n",
    "        # Backpropagated error\n",
    "        layer_1_errors = np.dot(self.weights_1_2.T,layer_2_delta) # errors propagated to the hidden layer 2x128\n",
    "        layer_1_delta = layer_1_errors  # hidden layer gradients y = x -> 1\n",
    "        \n",
    "        #  Update the weights\n",
    "        self.weights_1_2 += self.lr*np.dot(layer_2_delta,layer_1.T)/m # update hidden-to-output weights with gradient descent step\n",
    "        self.weights_0_1 += self.lr*np.dot(layer_1_delta,inputs.T)/m # update input-to-hidden weights with gradient descent step\n",
    "         \n",
    "        \n",
    "    def run(self, inputs_list):\n",
    "        # Run a forward pass through the network\n",
    "        inputs = np.array(inputs_list, ndmin=2).T\n",
    "        \n",
    "        #### Implement the forward pass here ####\n",
    "        #  Hidden layer\n",
    "        hidden_inputs = np.dot(self.weights_0_1, inputs) # signals into hidden layer\n",
    "        hidden_outputs = hidden_inputs # signals from hidden layer\n",
    "        \n",
    "        # Output layer\n",
    "        final_inputs = np.dot(self.weights_1_2,hidden_outputs) # signals into final output layer\n",
    "        final_outputs = self.sigmoid_activation(final_inputs) # signals from final output layer \n",
    "        \n",
    "        return final_outputs"
   ]
  },
  {
   "cell_type": "markdown",
   "metadata": {},
   "source": [
    "### Train the model "
   ]
  },
  {
   "cell_type": "code",
   "execution_count": 57,
   "metadata": {},
   "outputs": [
    {
     "name": "stdout",
     "output_type": "stream",
     "text": [
      "0.587706146927\n"
     ]
    }
   ],
   "source": [
    "from sklearn import metrics\n",
    "### Set the hyperparameters here ###\n",
    "epochs = 100 #100\n",
    "learning_rate = 0.01 #0.1\n",
    "hidden_nodes = 10 \n",
    "output_nodes = 1\n",
    "\n",
    "N_i = X_train.shape[1]\n",
    "network = MyNeuralNetwork(N_i, hidden_nodes, output_nodes, learning_rate)\n",
    "\n",
    "for e in range(epochs):\n",
    "    network.train(X_train, y_train)\n",
    "    \n",
    "y_pred = network.run(X_test)\n",
    "y_pred = np.where(y_pred >= 0.5, 1, 0) \n",
    "print(metrics.accuracy_score(y_test,y_pred[0]))"
   ]
  },
  {
   "cell_type": "markdown",
   "metadata": {},
   "source": [
    "### SGD"
   ]
  },
  {
   "cell_type": "code",
   "execution_count": 58,
   "metadata": {
    "collapsed": true
   },
   "outputs": [],
   "source": [
    "\n",
    "network = MyNeuralNetwork(N_i, hidden_nodes, output_nodes, learning_rate)\n",
    "\n",
    "random_row_idx = np.zeros(128)\n",
    "for e in range(epochs):\n",
    "    random_row_idx = np.random.choice(X_train.shape[0],size=128)\n",
    "    X_batch = X_train[random_row_idx,:]\n",
    "    y_batch = y_train[random_row_idx]\n",
    "    network.train(X_batch, y_batch)"
   ]
  },
  {
   "cell_type": "code",
   "execution_count": 59,
   "metadata": {},
   "outputs": [
    {
     "name": "stdout",
     "output_type": "stream",
     "text": [
      "0.581709145427\n"
     ]
    }
   ],
   "source": [
    "y_pred = network.run(X_test)\n",
    "y_pred = np.where(y_pred >= 0.5, 1, 0) # if probability >= 0.5, it is 1, else 0\n",
    "print(metrics.accuracy_score(y_test,y_pred[0]))"
   ]
  },
  {
   "cell_type": "markdown",
   "metadata": {},
   "source": [
    "#### Oops! What went wrong? SGD is supposed to improve the accuracy dramatically. but the output is very disappointed though.   "
   ]
  },
  {
   "cell_type": "markdown",
   "metadata": {},
   "source": [
    "### Short cut with Scikit-learn"
   ]
  },
  {
   "cell_type": "code",
   "execution_count": 60,
   "metadata": {
    "collapsed": true
   },
   "outputs": [],
   "source": [
    "from sklearn.neural_network import MLPClassifier\n",
    "from sklearn.preprocessing import MinMaxScaler\n",
    "\n",
    "\n",
    "\n",
    "clf = MLPClassifier(hidden_layer_sizes = [100, 100], alpha = 5.0,\n",
    "                   random_state = 0, solver='lbfgs')\n"
   ]
  },
  {
   "cell_type": "code",
   "execution_count": 61,
   "metadata": {},
   "outputs": [
    {
     "data": {
      "text/plain": [
       "MLPClassifier(activation='relu', alpha=5.0, batch_size='auto', beta_1=0.9,\n",
       "       beta_2=0.999, early_stopping=False, epsilon=1e-08,\n",
       "       hidden_layer_sizes=[100, 100], learning_rate='constant',\n",
       "       learning_rate_init=0.001, max_iter=200, momentum=0.9,\n",
       "       nesterovs_momentum=True, power_t=0.5, random_state=0, shuffle=True,\n",
       "       solver='lbfgs', tol=0.0001, validation_fraction=0.1, verbose=False,\n",
       "       warm_start=False)"
      ]
     },
     "execution_count": 61,
     "metadata": {},
     "output_type": "execute_result"
    }
   ],
   "source": [
    "clf.fit(X_test, y_test)"
   ]
  },
  {
   "cell_type": "code",
   "execution_count": 62,
   "metadata": {},
   "outputs": [
    {
     "data": {
      "text/plain": [
       "0.992503748125937"
      ]
     },
     "execution_count": 62,
     "metadata": {},
     "output_type": "execute_result"
    }
   ],
   "source": [
    "clf.score(X_test, y_test)"
   ]
  },
  {
   "cell_type": "markdown",
   "metadata": {},
   "source": [
    "## Swiching gear "
   ]
  },
  {
   "cell_type": "markdown",
   "metadata": {},
   "source": [
    "#### I now switch gears and use Neural Networks to perform customer churn analysis in Keras and Tensorflow."
   ]
  },
  {
   "cell_type": "markdown",
   "metadata": {},
   "source": [
    "### Building the model architecture"
   ]
  },
  {
   "cell_type": "code",
   "execution_count": 63,
   "metadata": {},
   "outputs": [
    {
     "name": "stderr",
     "output_type": "stream",
     "text": [
      "Using TensorFlow backend.\n"
     ]
    },
    {
     "name": "stdout",
     "output_type": "stream",
     "text": [
      "_________________________________________________________________\n",
      "Layer (type)                 Output Shape              Param #   \n",
      "=================================================================\n",
      "dense_1 (Dense)              (None, 12)                144       \n",
      "_________________________________________________________________\n",
      "dense_2 (Dense)              (None, 11)                143       \n",
      "_________________________________________________________________\n",
      "dense_3 (Dense)              (None, 1)                 12        \n",
      "=================================================================\n",
      "Total params: 299.0\n",
      "Trainable params: 299\n",
      "Non-trainable params: 0.0\n",
      "_________________________________________________________________\n"
     ]
    }
   ],
   "source": [
    "from keras.models import Sequential\n",
    "from keras.layers import Dense\n",
    "import keras\n",
    "\n",
    "# fixing random seed\n",
    "np.random.seed(0)\n",
    "\n",
    "# create model\n",
    "model = Sequential()\n",
    "model.add(Dense(12, input_dim=11, activation='relu'))\n",
    "model.add(Dense(11, activation='relu'))\n",
    "model.add(Dense(1, activation='sigmoid'))\n",
    "model.summary()\n",
    "\n",
    "# build model using keras documentation recommended optimizer initialization\n",
    "optimizer = keras.optimizers.RMSprop(lr=0.001, rho=0.9, epsilon=1e-08, decay=0.0)\n",
    "# compile model\n",
    "model.compile(loss='binary_crossentropy', optimizer=optimizer, metrics=['accuracy'])\n",
    "\n"
   ]
  },
  {
   "cell_type": "code",
   "execution_count": 64,
   "metadata": {},
   "outputs": [
    {
     "data": {
      "text/plain": [
       "<keras.callbacks.History at 0x7f5536f126d8>"
      ]
     },
     "execution_count": 64,
     "metadata": {},
     "output_type": "execute_result"
    }
   ],
   "source": [
    "model.fit(X_train, y_train, epochs=100, batch_size=50, verbose=0)"
   ]
  },
  {
   "cell_type": "code",
   "execution_count": 65,
   "metadata": {},
   "outputs": [
    {
     "name": "stdout",
     "output_type": "stream",
     "text": [
      "\r",
      "  32/2666 [..............................] - ETA: 0s"
     ]
    }
   ],
   "source": [
    "scores = model.evaluate(X_train, y_train)"
   ]
  },
  {
   "cell_type": "code",
   "execution_count": 66,
   "metadata": {},
   "outputs": [
    {
     "name": "stdout",
     "output_type": "stream",
     "text": [
      "\n",
      "acc: 94.75%\n"
     ]
    }
   ],
   "source": [
    "print(\"\\n%s: %.2f%%\" % (model.metrics_names[1], scores[1]*100))"
   ]
  },
  {
   "cell_type": "code",
   "execution_count": 67,
   "metadata": {
    "collapsed": true
   },
   "outputs": [],
   "source": [
    "# generate predictions for training\n",
    "train_predict = model.predict(X_train)\n",
    "test_predict = model.predict(X_test)"
   ]
  },
  {
   "cell_type": "code",
   "execution_count": 68,
   "metadata": {},
   "outputs": [
    {
     "data": {
      "text/plain": [
       "array([[ 0.07918099],\n",
       "       [ 0.14507121],\n",
       "       [ 0.04070739],\n",
       "       ..., \n",
       "       [ 0.77293235],\n",
       "       [ 0.00890751],\n",
       "       [ 0.97042042]], dtype=float32)"
      ]
     },
     "execution_count": 68,
     "metadata": {},
     "output_type": "execute_result"
    }
   ],
   "source": [
    "train_predict"
   ]
  },
  {
   "cell_type": "code",
   "execution_count": 69,
   "metadata": {},
   "outputs": [
    {
     "data": {
      "text/plain": [
       "array([[  3.03839177e-01],\n",
       "       [  3.14858966e-02],\n",
       "       [  2.44855471e-02],\n",
       "       [  9.30703618e-03],\n",
       "       [  9.99760330e-01],\n",
       "       [  7.20367372e-01],\n",
       "       [  1.24005981e-01],\n",
       "       [  2.84535065e-03],\n",
       "       [  5.50632514e-02],\n",
       "       [  5.07938825e-02],\n",
       "       [  1.84297431e-02],\n",
       "       [  8.30210466e-03],\n",
       "       [  1.59235317e-02],\n",
       "       [  2.66290898e-03],\n",
       "       [  8.89520288e-01],\n",
       "       [  1.69486806e-01],\n",
       "       [  1.41674709e-02],\n",
       "       [  1.33250833e-01],\n",
       "       [  8.83367099e-03],\n",
       "       [  6.87568821e-03],\n",
       "       [  5.63144833e-02],\n",
       "       [  1.05786510e-02],\n",
       "       [  1.51684564e-02],\n",
       "       [  5.00312215e-03],\n",
       "       [  7.68503770e-02],\n",
       "       [  1.32635804e-02],\n",
       "       [  4.81993929e-02],\n",
       "       [  1.55460266e-02],\n",
       "       [  4.12505604e-02],\n",
       "       [  1.58314019e-01],\n",
       "       [  1.85905565e-02],\n",
       "       [  2.00992636e-02],\n",
       "       [  2.58088727e-02],\n",
       "       [  9.78285447e-03],\n",
       "       [  1.01265637e-02],\n",
       "       [  6.60141278e-03],\n",
       "       [  9.60516214e-01],\n",
       "       [  6.35871245e-03],\n",
       "       [  1.49436323e-02],\n",
       "       [  8.95001650e-01],\n",
       "       [  2.91859042e-02],\n",
       "       [  9.56874609e-01],\n",
       "       [  9.93139923e-01],\n",
       "       [  5.94149113e-01],\n",
       "       [  2.14962428e-03],\n",
       "       [  3.56031931e-03],\n",
       "       [  6.54857745e-03],\n",
       "       [  5.79382665e-03],\n",
       "       [  2.54061669e-01],\n",
       "       [  1.96174104e-02],\n",
       "       [  2.71071102e-02],\n",
       "       [  2.07545608e-01],\n",
       "       [  1.48882776e-01],\n",
       "       [  4.32138564e-03],\n",
       "       [  1.29831024e-02],\n",
       "       [  1.92197282e-02],\n",
       "       [  3.93125005e-02],\n",
       "       [  1.22579271e-02],\n",
       "       [  3.60245332e-02],\n",
       "       [  5.65522373e-01],\n",
       "       [  9.89416301e-01],\n",
       "       [  4.28608246e-02],\n",
       "       [  1.52676366e-02],\n",
       "       [  1.71434712e-02],\n",
       "       [  1.25173330e-01],\n",
       "       [  3.09636593e-02],\n",
       "       [  4.36599404e-02],\n",
       "       [  8.30110088e-02],\n",
       "       [  3.42465471e-03],\n",
       "       [  3.19526233e-02],\n",
       "       [  2.87113674e-02],\n",
       "       [  4.05066786e-03],\n",
       "       [  2.15044916e-01],\n",
       "       [  4.10336226e-01],\n",
       "       [  9.89090353e-02],\n",
       "       [  6.50546849e-01],\n",
       "       [  1.91387385e-02],\n",
       "       [  1.66548137e-03],\n",
       "       [  8.71980369e-01],\n",
       "       [  8.16660840e-03],\n",
       "       [  4.36917990e-02],\n",
       "       [  4.19840701e-02],\n",
       "       [  5.20308055e-02],\n",
       "       [  7.06693297e-03],\n",
       "       [  1.63003895e-02],\n",
       "       [  9.94061828e-02],\n",
       "       [  9.68203992e-02],\n",
       "       [  1.11499112e-02],\n",
       "       [  8.77008855e-01],\n",
       "       [  6.53249677e-03],\n",
       "       [  2.50267200e-02],\n",
       "       [  2.35322580e-01],\n",
       "       [  3.69439572e-02],\n",
       "       [  9.74836014e-03],\n",
       "       [  1.81885675e-01],\n",
       "       [  1.72951102e-01],\n",
       "       [  3.65467630e-02],\n",
       "       [  6.27418794e-03],\n",
       "       [  3.04971524e-02],\n",
       "       [  4.17964114e-03],\n",
       "       [  2.73626205e-02],\n",
       "       [  2.11975705e-02],\n",
       "       [  1.90861389e-01],\n",
       "       [  1.58666857e-02],\n",
       "       [  2.19546467e-01],\n",
       "       [  5.10666743e-02],\n",
       "       [  1.40779223e-02],\n",
       "       [  3.03492974e-02],\n",
       "       [  7.13272512e-01],\n",
       "       [  2.14482471e-02],\n",
       "       [  1.66592337e-02],\n",
       "       [  4.75006662e-02],\n",
       "       [  7.13303639e-03],\n",
       "       [  3.14605199e-02],\n",
       "       [  2.63785660e-01],\n",
       "       [  1.53605461e-01],\n",
       "       [  4.97419666e-03],\n",
       "       [  1.21377157e-02],\n",
       "       [  3.01530492e-03],\n",
       "       [  1.80742815e-02],\n",
       "       [  9.64104533e-01],\n",
       "       [  2.10697539e-02],\n",
       "       [  4.97112274e-02],\n",
       "       [  4.62446027e-02],\n",
       "       [  1.74640581e-01],\n",
       "       [  3.94285351e-01],\n",
       "       [  2.35774857e-03],\n",
       "       [  1.37999263e-02],\n",
       "       [  3.12651251e-03],\n",
       "       [  3.25388610e-01],\n",
       "       [  1.22671574e-01],\n",
       "       [  2.20653061e-02],\n",
       "       [  1.20684216e-02],\n",
       "       [  3.82658914e-02],\n",
       "       [  9.62483510e-03],\n",
       "       [  1.81503985e-02],\n",
       "       [  5.79950958e-03],\n",
       "       [  2.43597060e-01],\n",
       "       [  6.15230948e-02],\n",
       "       [  4.80615953e-03],\n",
       "       [  2.85471343e-02],\n",
       "       [  1.53481960e-02],\n",
       "       [  7.77105212e-01],\n",
       "       [  4.28008176e-02],\n",
       "       [  1.75031759e-02],\n",
       "       [  3.22287483e-03],\n",
       "       [  6.64821593e-03],\n",
       "       [  1.24285836e-02],\n",
       "       [  1.86446160e-02],\n",
       "       [  1.25169056e-02],\n",
       "       [  9.34061781e-02],\n",
       "       [  1.51668033e-02],\n",
       "       [  6.09589787e-03],\n",
       "       [  9.30133555e-03],\n",
       "       [  1.66184396e-01],\n",
       "       [  1.56404421e-01],\n",
       "       [  7.64793996e-03],\n",
       "       [  1.09951198e-01],\n",
       "       [  9.91915107e-01],\n",
       "       [  4.96300077e-03],\n",
       "       [  2.01652180e-02],\n",
       "       [  1.55025627e-02],\n",
       "       [  8.26944768e-01],\n",
       "       [  2.83616241e-02],\n",
       "       [  2.45848283e-01],\n",
       "       [  3.52266394e-02],\n",
       "       [  9.99749243e-01],\n",
       "       [  4.67401929e-02],\n",
       "       [  8.79621387e-01],\n",
       "       [  7.11418927e-01],\n",
       "       [  4.75890525e-02],\n",
       "       [  1.05806971e-02],\n",
       "       [  1.08133312e-02],\n",
       "       [  1.27609661e-02],\n",
       "       [  4.51791510e-02],\n",
       "       [  1.87601089e-01],\n",
       "       [  6.51611865e-01],\n",
       "       [  1.10753417e-01],\n",
       "       [  5.18344603e-02],\n",
       "       [  4.88201417e-02],\n",
       "       [  1.92984521e-01],\n",
       "       [  9.37199146e-02],\n",
       "       [  2.41153147e-02],\n",
       "       [  1.75392516e-02],\n",
       "       [  5.32019837e-03],\n",
       "       [  5.60562670e-01],\n",
       "       [  1.61908209e-01],\n",
       "       [  1.87189004e-03],\n",
       "       [  1.64343268e-02],\n",
       "       [  9.99340594e-01],\n",
       "       [  3.81795950e-02],\n",
       "       [  1.78362038e-02],\n",
       "       [  1.81482546e-02],\n",
       "       [  1.49277970e-02],\n",
       "       [  1.04567092e-02],\n",
       "       [  1.06417118e-02],\n",
       "       [  2.59179641e-02],\n",
       "       [  1.47559168e-02],\n",
       "       [  1.74381379e-02],\n",
       "       [  1.57382470e-02],\n",
       "       [  1.63996555e-02],\n",
       "       [  3.03898919e-02],\n",
       "       [  6.51949793e-02],\n",
       "       [  8.56062956e-03],\n",
       "       [  9.77693032e-03],\n",
       "       [  2.20281333e-02],\n",
       "       [  1.42519381e-02],\n",
       "       [  2.01366115e-02],\n",
       "       [  4.10301425e-03],\n",
       "       [  3.25313240e-01],\n",
       "       [  3.74795720e-02],\n",
       "       [  7.71616073e-03],\n",
       "       [  8.57671678e-01],\n",
       "       [  6.98544085e-03],\n",
       "       [  3.72997820e-02],\n",
       "       [  2.62953397e-02],\n",
       "       [  6.26798347e-02],\n",
       "       [  4.23536927e-01],\n",
       "       [  3.95100415e-02],\n",
       "       [  2.50799302e-02],\n",
       "       [  1.42081929e-02],\n",
       "       [  9.91381466e-01],\n",
       "       [  7.79156247e-03],\n",
       "       [  4.82436568e-02],\n",
       "       [  3.92006822e-02],\n",
       "       [  4.85483855e-02],\n",
       "       [  1.55429140e-01],\n",
       "       [  3.47821079e-02],\n",
       "       [  2.38297991e-02],\n",
       "       [  1.06071923e-02],\n",
       "       [  6.06546365e-02],\n",
       "       [  7.96878524e-03],\n",
       "       [  1.71861038e-01],\n",
       "       [  2.39875354e-02],\n",
       "       [  4.39156918e-03],\n",
       "       [  1.58008896e-02],\n",
       "       [  9.90462005e-01],\n",
       "       [  4.36826190e-03],\n",
       "       [  9.37664986e-01],\n",
       "       [  7.92130921e-03],\n",
       "       [  6.32508323e-02],\n",
       "       [  1.11554433e-02],\n",
       "       [  2.94522047e-02],\n",
       "       [  3.18167894e-03],\n",
       "       [  2.32737109e-01],\n",
       "       [  3.44381064e-01],\n",
       "       [  3.50047678e-01],\n",
       "       [  6.28747605e-03],\n",
       "       [  5.47313653e-02],\n",
       "       [  4.95675094e-02],\n",
       "       [  4.83193388e-03],\n",
       "       [  1.99474618e-02],\n",
       "       [  1.55740520e-02],\n",
       "       [  3.70097011e-02],\n",
       "       [  3.18832695e-02],\n",
       "       [  2.29671318e-02],\n",
       "       [  7.71902561e-01],\n",
       "       [  2.39675678e-02],\n",
       "       [  4.14555743e-02],\n",
       "       [  3.76258716e-02],\n",
       "       [  1.54953022e-02],\n",
       "       [  1.00679345e-01],\n",
       "       [  6.58123866e-02],\n",
       "       [  3.46546248e-02],\n",
       "       [  1.14890328e-02],\n",
       "       [  1.59417726e-02],\n",
       "       [  1.48302056e-02],\n",
       "       [  9.93296225e-03],\n",
       "       [  4.12078261e-01],\n",
       "       [  5.18521480e-02],\n",
       "       [  4.11964878e-02],\n",
       "       [  1.82425268e-02],\n",
       "       [  2.37274505e-02],\n",
       "       [  3.66080925e-02],\n",
       "       [  9.99267399e-01],\n",
       "       [  7.49941403e-03],\n",
       "       [  6.75092125e-03],\n",
       "       [  1.02348318e-02],\n",
       "       [  1.28194755e-02],\n",
       "       [  1.11718038e-02],\n",
       "       [  3.45502677e-03],\n",
       "       [  2.98486967e-02],\n",
       "       [  3.52215804e-02],\n",
       "       [  1.80476308e-02],\n",
       "       [  2.07137177e-03],\n",
       "       [  7.02896388e-03],\n",
       "       [  2.34280657e-02],\n",
       "       [  2.05045994e-02],\n",
       "       [  9.62516814e-02],\n",
       "       [  2.30934806e-02],\n",
       "       [  1.20329577e-02],\n",
       "       [  8.29146355e-02],\n",
       "       [  4.19806950e-02],\n",
       "       [  8.91173333e-02],\n",
       "       [  1.43700251e-02],\n",
       "       [  4.90432233e-01],\n",
       "       [  1.03736818e-02],\n",
       "       [  9.71161664e-01],\n",
       "       [  1.62329912e-01],\n",
       "       [  1.95769202e-02],\n",
       "       [  1.65387278e-03],\n",
       "       [  1.23695686e-01],\n",
       "       [  3.82972620e-02],\n",
       "       [  1.34063642e-02],\n",
       "       [  1.00429915e-02],\n",
       "       [  2.52988916e-02],\n",
       "       [  6.81567252e-01],\n",
       "       [  1.59795638e-02],\n",
       "       [  1.24935187e-01],\n",
       "       [  9.99008119e-01],\n",
       "       [  2.08143368e-02],\n",
       "       [  9.51957610e-03],\n",
       "       [  7.26261595e-03],\n",
       "       [  6.08709812e-01],\n",
       "       [  7.43350387e-03],\n",
       "       [  4.61880028e-01],\n",
       "       [  2.13950034e-02],\n",
       "       [  4.40792181e-03],\n",
       "       [  3.20766792e-02],\n",
       "       [  2.97204405e-03],\n",
       "       [  1.93601679e-02],\n",
       "       [  4.10604523e-03],\n",
       "       [  9.89924651e-03],\n",
       "       [  3.30492109e-02],\n",
       "       [  4.57275987e-01],\n",
       "       [  1.48714995e-02],\n",
       "       [  9.22725126e-02],\n",
       "       [  7.99011067e-03],\n",
       "       [  1.57036439e-01],\n",
       "       [  2.29646843e-02],\n",
       "       [  3.41700134e-03],\n",
       "       [  8.52955729e-02],\n",
       "       [  8.65907490e-01],\n",
       "       [  3.62679660e-02],\n",
       "       [  9.65986326e-02],\n",
       "       [  4.38383687e-03],\n",
       "       [  3.08775663e-01],\n",
       "       [  3.86427226e-03],\n",
       "       [  1.95457460e-03],\n",
       "       [  6.80807412e-01],\n",
       "       [  3.74107808e-02],\n",
       "       [  8.02209601e-02],\n",
       "       [  9.76520218e-03],\n",
       "       [  4.75236893e-01],\n",
       "       [  4.37760293e-01],\n",
       "       [  3.94297158e-03],\n",
       "       [  4.99234766e-01],\n",
       "       [  1.26608005e-02],\n",
       "       [  1.26802949e-02],\n",
       "       [  1.79841295e-01],\n",
       "       [  5.34227014e-01],\n",
       "       [  2.01188717e-02],\n",
       "       [  9.85679924e-02],\n",
       "       [  5.57901151e-02],\n",
       "       [  1.57012507e-01],\n",
       "       [  3.04684043e-02],\n",
       "       [  2.47161905e-03],\n",
       "       [  9.30984132e-03],\n",
       "       [  9.81206819e-03],\n",
       "       [  5.02243638e-01],\n",
       "       [  8.28883871e-02],\n",
       "       [  2.10645031e-02],\n",
       "       [  1.62323974e-02],\n",
       "       [  1.90729499e-02],\n",
       "       [  1.69619974e-02],\n",
       "       [  9.33720078e-03],\n",
       "       [  4.60245181e-03],\n",
       "       [  2.18320027e-01],\n",
       "       [  4.30275127e-03],\n",
       "       [  6.66534126e-01],\n",
       "       [  3.70114177e-01],\n",
       "       [  1.78098530e-02],\n",
       "       [  1.59019813e-01],\n",
       "       [  8.57424021e-01],\n",
       "       [  4.38637286e-03],\n",
       "       [  1.22728879e-02],\n",
       "       [  1.12116542e-02],\n",
       "       [  1.47710713e-02],\n",
       "       [  2.30786614e-02],\n",
       "       [  5.11833169e-02],\n",
       "       [  2.18255743e-02],\n",
       "       [  1.95750594e-01],\n",
       "       [  1.04743451e-01],\n",
       "       [  1.93649847e-02],\n",
       "       [  8.61199666e-03],\n",
       "       [  3.16800526e-03],\n",
       "       [  7.43094981e-02],\n",
       "       [  2.62540206e-02],\n",
       "       [  3.81879252e-03],\n",
       "       [  1.16182603e-02],\n",
       "       [  8.07859182e-01],\n",
       "       [  7.80706182e-02],\n",
       "       [  9.61293101e-01],\n",
       "       [  1.08213266e-02],\n",
       "       [  7.86439836e-01],\n",
       "       [  2.87502706e-01],\n",
       "       [  3.74333769e-01],\n",
       "       [  5.04570723e-01],\n",
       "       [  1.13630807e-02],\n",
       "       [  5.16614178e-04],\n",
       "       [  5.17001092e-01],\n",
       "       [  3.65779996e-02],\n",
       "       [  4.15717764e-03],\n",
       "       [  4.61023301e-03],\n",
       "       [  9.63329673e-02],\n",
       "       [  1.23806773e-02],\n",
       "       [  8.71559441e-01],\n",
       "       [  2.07479242e-02],\n",
       "       [  9.15766880e-03],\n",
       "       [  6.95258379e-02],\n",
       "       [  9.57326710e-01],\n",
       "       [  2.54385900e-02],\n",
       "       [  3.95987146e-02],\n",
       "       [  2.11058840e-01],\n",
       "       [  1.14101712e-02],\n",
       "       [  2.66382024e-02],\n",
       "       [  3.19747790e-03],\n",
       "       [  8.11634026e-03],\n",
       "       [  2.69217908e-01],\n",
       "       [  4.22819443e-02],\n",
       "       [  1.01183737e-02],\n",
       "       [  2.07910556e-02],\n",
       "       [  1.68376267e-02],\n",
       "       [  3.16295289e-02],\n",
       "       [  1.81251746e-02],\n",
       "       [  1.03942081e-01],\n",
       "       [  3.19306850e-02],\n",
       "       [  6.37044897e-03],\n",
       "       [  1.59542169e-02],\n",
       "       [  3.24933454e-02],\n",
       "       [  2.22517122e-02],\n",
       "       [  2.58511677e-02],\n",
       "       [  3.45948385e-03],\n",
       "       [  1.77001245e-02],\n",
       "       [  1.68403983e-02],\n",
       "       [  3.87463085e-02],\n",
       "       [  2.37277821e-01],\n",
       "       [  2.08787918e-02],\n",
       "       [  4.81893659e-01],\n",
       "       [  1.16173467e-02],\n",
       "       [  7.23831961e-03],\n",
       "       [  4.67601493e-02],\n",
       "       [  2.35576387e-02],\n",
       "       [  8.28930084e-03],\n",
       "       [  2.15892047e-01],\n",
       "       [  6.50080433e-03],\n",
       "       [  9.99979973e-01],\n",
       "       [  2.29795673e-03],\n",
       "       [  1.18329965e-01],\n",
       "       [  9.58227038e-01],\n",
       "       [  2.11610012e-02],\n",
       "       [  5.91637567e-03],\n",
       "       [  6.19027577e-03],\n",
       "       [  6.08646683e-03],\n",
       "       [  8.36835988e-03],\n",
       "       [  6.61778212e-01],\n",
       "       [  3.65663110e-03],\n",
       "       [  1.36372268e-01],\n",
       "       [  9.22273397e-01],\n",
       "       [  2.06884295e-02],\n",
       "       [  2.89110076e-02],\n",
       "       [  1.20580671e-02],\n",
       "       [  2.88718846e-02],\n",
       "       [  2.07199588e-01],\n",
       "       [  9.98507440e-03],\n",
       "       [  4.02152836e-02],\n",
       "       [  2.61445820e-01],\n",
       "       [  9.95907903e-01],\n",
       "       [  1.64212063e-02],\n",
       "       [  8.23182642e-01],\n",
       "       [  3.62061546e-03],\n",
       "       [  3.21489125e-02],\n",
       "       [  4.86209383e-03],\n",
       "       [  1.83727033e-02],\n",
       "       [  2.89969444e-02],\n",
       "       [  6.53771590e-03],\n",
       "       [  6.45184610e-03],\n",
       "       [  6.06869698e-01],\n",
       "       [  1.77427214e-02],\n",
       "       [  5.01273340e-03],\n",
       "       [  5.52685261e-02],\n",
       "       [  7.69147184e-03],\n",
       "       [  3.97081226e-02],\n",
       "       [  1.85434218e-03],\n",
       "       [  3.40185910e-02],\n",
       "       [  1.12213744e-02],\n",
       "       [  7.85542652e-02],\n",
       "       [  2.07305644e-02],\n",
       "       [  8.18880141e-01],\n",
       "       [  1.72554515e-02],\n",
       "       [  7.24507809e-01],\n",
       "       [  1.09211430e-02],\n",
       "       [  2.41196230e-02],\n",
       "       [  1.61406845e-02],\n",
       "       [  1.02397259e-02],\n",
       "       [  2.40517333e-02],\n",
       "       [  1.69813856e-02],\n",
       "       [  7.63465881e-01],\n",
       "       [  2.71999329e-01],\n",
       "       [  5.06578945e-03],\n",
       "       [  1.11773737e-01],\n",
       "       [  1.87612865e-02],\n",
       "       [  5.71679994e-02],\n",
       "       [  3.75790037e-02],\n",
       "       [  3.22628170e-02],\n",
       "       [  5.87321855e-02],\n",
       "       [  7.85325646e-01],\n",
       "       [  2.41440516e-02],\n",
       "       [  2.18280986e-01],\n",
       "       [  6.83921576e-03],\n",
       "       [  1.79134179e-02],\n",
       "       [  2.17160862e-02],\n",
       "       [  6.69148937e-02],\n",
       "       [  2.73715053e-02],\n",
       "       [  1.31150588e-01],\n",
       "       [  1.92858838e-02],\n",
       "       [  1.17556583e-02],\n",
       "       [  2.93317530e-02],\n",
       "       [  1.49212718e-01],\n",
       "       [  7.70598836e-03],\n",
       "       [  5.90424240e-02],\n",
       "       [  2.49604564e-02],\n",
       "       [  1.84524119e-01],\n",
       "       [  5.35048321e-02],\n",
       "       [  2.54909337e-01],\n",
       "       [  1.65096000e-02],\n",
       "       [  2.94567528e-03],\n",
       "       [  2.65828683e-03],\n",
       "       [  2.43053824e-01],\n",
       "       [  1.19095445e-02],\n",
       "       [  5.81441671e-02],\n",
       "       [  1.78648531e-02],\n",
       "       [  2.11053956e-02],\n",
       "       [  8.52979254e-03],\n",
       "       [  2.33726874e-02],\n",
       "       [  1.45304846e-02],\n",
       "       [  1.12112742e-02],\n",
       "       [  1.12441368e-02],\n",
       "       [  3.96502996e-03],\n",
       "       [  7.77433217e-02],\n",
       "       [  2.43849624e-02],\n",
       "       [  1.25563428e-01],\n",
       "       [  5.94657362e-01],\n",
       "       [  3.44645828e-02],\n",
       "       [  3.47538054e-01],\n",
       "       [  4.98134829e-03],\n",
       "       [  2.31662430e-02],\n",
       "       [  4.15178567e-01],\n",
       "       [  3.64052169e-02],\n",
       "       [  3.91628742e-01],\n",
       "       [  1.40878543e-01],\n",
       "       [  3.40072764e-03],\n",
       "       [  2.46974871e-01],\n",
       "       [  3.25587057e-02],\n",
       "       [  1.19243953e-02],\n",
       "       [  2.62188576e-02],\n",
       "       [  4.91944514e-03],\n",
       "       [  9.64986145e-01],\n",
       "       [  2.05546035e-03],\n",
       "       [  1.52309045e-01],\n",
       "       [  3.15826200e-02],\n",
       "       [  2.53467172e-01],\n",
       "       [  6.71307966e-02],\n",
       "       [  5.79148717e-03],\n",
       "       [  1.33173496e-01],\n",
       "       [  1.16969999e-02],\n",
       "       [  1.89838058e-03],\n",
       "       [  9.77530181e-01],\n",
       "       [  2.29038973e-03],\n",
       "       [  1.19258054e-02],\n",
       "       [  3.34690392e-01],\n",
       "       [  2.66868379e-02],\n",
       "       [  1.99790355e-02],\n",
       "       [  4.68427539e-02],\n",
       "       [  9.99709666e-02],\n",
       "       [  2.42395904e-02],\n",
       "       [  8.91686883e-03],\n",
       "       [  1.26661062e-02],\n",
       "       [  9.98215437e-01],\n",
       "       [  3.94244678e-02],\n",
       "       [  2.58031189e-01],\n",
       "       [  4.73674899e-03],\n",
       "       [  1.07277166e-02],\n",
       "       [  1.58189032e-02],\n",
       "       [  9.06414092e-02],\n",
       "       [  1.74131952e-02],\n",
       "       [  1.30871208e-02],\n",
       "       [  1.93367794e-01],\n",
       "       [  1.98107362e-01],\n",
       "       [  2.92324973e-03],\n",
       "       [  1.35839572e-02],\n",
       "       [  1.50010824e-01],\n",
       "       [  1.10110208e-01],\n",
       "       [  9.58218297e-04],\n",
       "       [  4.09295931e-02],\n",
       "       [  4.24302183e-02],\n",
       "       [  1.59585085e-02],\n",
       "       [  1.88200008e-02],\n",
       "       [  1.37556260e-02],\n",
       "       [  7.08012208e-02],\n",
       "       [  8.94282665e-03],\n",
       "       [  4.65024531e-01],\n",
       "       [  8.18708073e-03],\n",
       "       [  2.82725841e-01],\n",
       "       [  2.54380815e-02],\n",
       "       [  4.28028917e-03],\n",
       "       [  7.43941307e-01],\n",
       "       [  4.99753058e-02],\n",
       "       [  3.10618609e-01],\n",
       "       [  1.07378989e-01],\n",
       "       [  7.38446275e-03],\n",
       "       [  9.99507427e-01],\n",
       "       [  4.64967936e-02],\n",
       "       [  4.76709381e-03],\n",
       "       [  9.84131873e-01],\n",
       "       [  3.15182321e-02],\n",
       "       [  1.20934108e-02],\n",
       "       [  4.53119073e-03],\n",
       "       [  5.12178898e-01],\n",
       "       [  3.47145274e-03],\n",
       "       [  3.74468006e-02],\n",
       "       [  1.04893655e-01],\n",
       "       [  2.69388467e-01],\n",
       "       [  1.40056878e-01],\n",
       "       [  3.78844724e-03],\n",
       "       [  2.30982099e-02],\n",
       "       [  8.24157596e-02],\n",
       "       [  4.99448460e-03],\n",
       "       [  3.34516317e-01],\n",
       "       [  1.23454509e-02],\n",
       "       [  1.11383880e-02],\n",
       "       [  7.64917731e-01],\n",
       "       [  4.44546677e-02],\n",
       "       [  1.59350205e-02],\n",
       "       [  1.20737385e-02],\n",
       "       [  4.79823612e-02],\n",
       "       [  2.92190462e-01],\n",
       "       [  1.90968648e-01],\n",
       "       [  3.83679606e-02],\n",
       "       [  3.81271511e-01],\n",
       "       [  3.08224782e-02],\n",
       "       [  3.81154171e-03],\n",
       "       [  1.10061150e-02],\n",
       "       [  4.07336682e-01],\n",
       "       [  2.21250523e-02],\n",
       "       [  9.14771259e-01],\n",
       "       [  1.29518602e-02],\n",
       "       [  3.50358896e-02],\n",
       "       [  4.10427973e-02],\n",
       "       [  4.91997227e-03],\n",
       "       [  6.53410610e-03],\n",
       "       [  2.74529886e-02],\n",
       "       [  8.22108146e-03],\n",
       "       [  3.72854508e-02],\n",
       "       [  5.92285441e-03],\n",
       "       [  1.78851068e-01],\n",
       "       [  4.72685955e-02],\n",
       "       [  3.71699706e-02],\n",
       "       [  3.15730949e-03],\n",
       "       [  2.93202307e-02],\n",
       "       [  1.96285732e-02],\n",
       "       [  1.47955306e-03],\n",
       "       [  1.93570163e-02],\n",
       "       [  4.96671617e-01],\n",
       "       [  8.52984097e-03],\n",
       "       [  2.93371920e-02],\n",
       "       [  1.15757259e-02]], dtype=float32)"
      ]
     },
     "execution_count": 69,
     "metadata": {},
     "output_type": "execute_result"
    }
   ],
   "source": [
    "test_predict "
   ]
  },
  {
   "cell_type": "code",
   "execution_count": 70,
   "metadata": {},
   "outputs": [
    {
     "name": "stdout",
     "output_type": "stream",
     "text": [
      "training error = [0.16445033505994935, 0.9474868716285002]\n",
      "testing error = [0.2163155609923324, 0.93103448365224351]\n"
     ]
    }
   ],
   "source": [
    "# print out training and testing errors\n",
    "training_error = model.evaluate(X_train, y_train, verbose=0)\n",
    "print('training error = ' + str(training_error))\n",
    "\n",
    "testing_error = model.evaluate(X_test, y_test, verbose=0)\n",
    "print('testing error = ' + str(testing_error))"
   ]
  },
  {
   "cell_type": "markdown",
   "metadata": {},
   "source": [
    "### Tensorflow"
   ]
  },
  {
   "cell_type": "code",
   "execution_count": 71,
   "metadata": {},
   "outputs": [
    {
     "name": "stdout",
     "output_type": "stream",
     "text": [
      "WARNING:tensorflow:float64 is not supported by many models, consider casting to float32.\n",
      "INFO:tensorflow:Using default config.\n",
      "INFO:tensorflow:Using config: {'_task_type': None, '_task_id': 0, '_cluster_spec': <tensorflow.python.training.server_lib.ClusterSpec object at 0x7f5527b803c8>, '_master': '', '_num_ps_replicas': 0, '_num_worker_replicas': 0, '_environment': 'local', '_is_chief': True, '_evaluation_master': '', '_tf_config': gpu_options {\n",
      "  per_process_gpu_memory_fraction: 1\n",
      "}\n",
      ", '_tf_random_seed': None, '_save_summary_steps': 100, '_save_checkpoints_secs': 600, '_save_checkpoints_steps': None, '_keep_checkpoint_max': 5, '_keep_checkpoint_every_n_hours': 10000, '_model_dir': None}\n",
      "WARNING:tensorflow:Using temporary folder as model directory: /tmp/tmpzfqdaxd6\n",
      "WARNING:tensorflow:From <ipython-input-71-1708656d9951>:7: calling BaseEstimator.fit (from tensorflow.contrib.learn.python.learn.estimators.estimator) with x is deprecated and will be removed after 2016-12-01.\n",
      "Instructions for updating:\n",
      "Estimator is decoupled from Scikit Learn interface by moving into\n",
      "separate class SKCompat. Arguments x, y and batch_size are only\n",
      "available in the SKCompat class, Estimator will only accept input_fn.\n",
      "Example conversion:\n",
      "  est = Estimator(...) -> est = SKCompat(Estimator(...))\n",
      "WARNING:tensorflow:From <ipython-input-71-1708656d9951>:7: calling BaseEstimator.fit (from tensorflow.contrib.learn.python.learn.estimators.estimator) with y is deprecated and will be removed after 2016-12-01.\n",
      "Instructions for updating:\n",
      "Estimator is decoupled from Scikit Learn interface by moving into\n",
      "separate class SKCompat. Arguments x, y and batch_size are only\n",
      "available in the SKCompat class, Estimator will only accept input_fn.\n",
      "Example conversion:\n",
      "  est = Estimator(...) -> est = SKCompat(Estimator(...))\n",
      "WARNING:tensorflow:float64 is not supported by many models, consider casting to float32.\n",
      "WARNING:tensorflow:From /home/suh/anaconda3/lib/python3.6/site-packages/tensorflow/contrib/learn/python/learn/estimators/head.py:615: scalar_summary (from tensorflow.python.ops.logging_ops) is deprecated and will be removed after 2016-11-30.\n",
      "Instructions for updating:\n",
      "Please switch to tf.summary.scalar. Note that tf.summary.scalar uses the node name instead of the tag. This means that TensorFlow will automatically de-duplicate summary names based on the scope they are created in. Also, passing a tensor or list of tags to a scalar summary op is no longer supported.\n"
     ]
    },
    {
     "name": "stderr",
     "output_type": "stream",
     "text": [
      "/home/suh/anaconda3/lib/python3.6/site-packages/tensorflow/python/util/deprecation.py:248: FutureWarning: comparison to `None` will result in an elementwise object comparison in the future.\n",
      "  equality = a == b\n"
     ]
    },
    {
     "name": "stdout",
     "output_type": "stream",
     "text": [
      "INFO:tensorflow:Create CheckpointSaverHook.\n",
      "INFO:tensorflow:Saving checkpoints for 1 into /tmp/tmpzfqdaxd6/model.ckpt.\n",
      "INFO:tensorflow:loss = 0.657322, step = 1\n",
      "INFO:tensorflow:global_step/sec: 181.456\n",
      "INFO:tensorflow:loss = 0.328623, step = 101 (0.552 sec)\n",
      "INFO:tensorflow:global_step/sec: 175.45\n",
      "INFO:tensorflow:loss = 0.28894, step = 201 (0.570 sec)\n",
      "INFO:tensorflow:Saving checkpoints for 300 into /tmp/tmpzfqdaxd6/model.ckpt.\n",
      "INFO:tensorflow:Loss for final step: 0.259434.\n",
      "WARNING:tensorflow:From /home/suh/anaconda3/lib/python3.6/site-packages/tensorflow/python/util/deprecation.py:335: calling DNNClassifier.predict (from tensorflow.contrib.learn.python.learn.estimators.dnn) with outputs=None is deprecated and will be removed after 2017-03-01.\n",
      "Instructions for updating:\n",
      "Please switch to predict_classes, or set `outputs` argument.\n",
      "WARNING:tensorflow:From /home/suh/anaconda3/lib/python3.6/site-packages/tensorflow/contrib/learn/python/learn/estimators/dnn.py:422: calling BaseEstimator.predict (from tensorflow.contrib.learn.python.learn.estimators.estimator) with x is deprecated and will be removed after 2016-12-01.\n",
      "Instructions for updating:\n",
      "Estimator is decoupled from Scikit Learn interface by moving into\n",
      "separate class SKCompat. Arguments x, y and batch_size are only\n",
      "available in the SKCompat class, Estimator will only accept input_fn.\n",
      "Example conversion:\n",
      "  est = Estimator(...) -> est = SKCompat(Estimator(...))\n",
      "WARNING:tensorflow:float64 is not supported by many models, consider casting to float32.\n",
      "INFO:tensorflow:Restoring parameters from /tmp/tmpzfqdaxd6/model.ckpt-300\n"
     ]
    }
   ],
   "source": [
    "import tensorflow as tf\n",
    "# Build one layer DNN with 40 units respectively.\n",
    "feature_columns = tf.contrib.learn.infer_real_valued_columns_from_input(X_train)\n",
    "classifier = tf.contrib.learn.DNNClassifier(feature_columns=feature_columns, hidden_units=[40], n_classes=2)\n",
    "\n",
    "# Fit and predict.\n",
    "classifier.fit(X_train, y_train, steps=300)\n",
    "predictions = list(classifier.predict(X_test, as_iterable=True))\n",
    "score = metrics.accuracy_score(y_test, predictions)"
   ]
  },
  {
   "cell_type": "code",
   "execution_count": 72,
   "metadata": {},
   "outputs": [
    {
     "name": "stdout",
     "output_type": "stream",
     "text": [
      "TF Accuracy: 0.904047976012\n"
     ]
    }
   ],
   "source": [
    "print('TF Accuracy:', score)"
   ]
  },
  {
   "cell_type": "markdown",
   "metadata": {},
   "source": [
    "## Summary"
   ]
  },
  {
   "cell_type": "markdown",
   "metadata": {},
   "source": [
    "- LogisticRegression : 0.85757121439280359\n",
    "    \n",
    "- K-Nearest Neighbors - KNeighborsClassifier : 0.90404797601199405\n",
    "    \n",
    "- K-Nearest Neighbors - KNeighborsRegressor : 0.44233396137541203\n",
    "    \n",
    "- Naive Bayes classifiers : 0.8860569715142429\n",
    "    \n",
    "- Decision Trees : 0.91004497751124436\n",
    "    \n",
    "- Random Forests : 0.90554722638680663\n",
    "    \n",
    "- Manual Neural Network : 0.584707646177\n",
    "    \n",
    "- Neural Network in Scikit-learn : 0.992503748125937\n",
    "    \n",
    "- Keras acc : 94.64%\n",
    "    \n",
    "- TF Accuracy : 0.901049475262\n",
    "    \n",
    "\n",
    "    \n"
   ]
  },
  {
   "cell_type": "markdown",
   "metadata": {},
   "source": [
    "## PART 2. Evaluation"
   ]
  },
  {
   "cell_type": "code",
   "execution_count": 73,
   "metadata": {},
   "outputs": [
    {
     "name": "stdout",
     "output_type": "stream",
     "text": [
      "Original labels:\t [0 0 0 0 0 0 0 0 0 1 0 0 0 0 1 0 0 0 0 0 1 0 0 0 0 0 0 0 0]\n",
      "New binary labels:\t [0 0 0 0 0 0 0 0 0 1 0 0 0 0 1 0 0 0 0 0 1 0 0 0 0 0 0 0 0]\n"
     ]
    }
   ],
   "source": [
    "# Creating a dataset with imbalanced binary classes:  \n",
    "# Negative class (0) is 'not digit 1' \n",
    "# Positive class (1) is 'digit 1'\n",
    "y_binary_imbalanced = y.copy()\n",
    "y_binary_imbalanced[y_binary_imbalanced != 1] = 0\n",
    "\n",
    "print('Original labels:\\t', y[1:30])\n",
    "print('New binary labels:\\t', y_binary_imbalanced[1:30])"
   ]
  },
  {
   "cell_type": "code",
   "execution_count": 74,
   "metadata": {},
   "outputs": [
    {
     "data": {
      "text/plain": [
       "array([2850,  483])"
      ]
     },
     "execution_count": 74,
     "metadata": {},
     "output_type": "execute_result"
    }
   ],
   "source": [
    "np.bincount(y_binary_imbalanced)    # Negative class (0) is the most frequent class"
   ]
  },
  {
   "cell_type": "code",
   "execution_count": 75,
   "metadata": {},
   "outputs": [
    {
     "data": {
      "text/plain": [
       "0.92685851318944845"
      ]
     },
     "execution_count": 75,
     "metadata": {},
     "output_type": "execute_result"
    }
   ],
   "source": [
    "X_train, X_test, y_train, y_test = train_test_split(X, y_binary_imbalanced, random_state=0)\n",
    "\n",
    "from sklearn.svm import SVC\n",
    "\n",
    "svm = SVC(kernel='rbf', C=1).fit(X_train, y_train)\n",
    "svm.score(X_test, y_test)"
   ]
  },
  {
   "cell_type": "markdown",
   "metadata": {},
   "source": [
    "## Dummy Classifiers"
   ]
  },
  {
   "cell_type": "markdown",
   "metadata": {},
   "source": [
    "DummyClassifier is a classifier that makes predictions using simple rules, which can be useful as a baseline for comparison against actual classifiers, especially with imbalanced classes."
   ]
  },
  {
   "cell_type": "code",
   "execution_count": 76,
   "metadata": {},
   "outputs": [
    {
     "data": {
      "text/plain": [
       "array([0, 0, 0, 0, 0, 0, 0, 0, 0, 0, 0, 0, 0, 0, 0, 0, 0, 0, 0, 0, 0, 0, 0,\n",
       "       0, 0, 0, 0, 0, 0, 0, 0, 0, 0, 0, 0, 0, 0, 0, 0, 0, 0, 0, 0, 0, 0, 0,\n",
       "       0, 0, 0, 0, 0, 0, 0, 0, 0, 0, 0, 0, 0, 0, 0, 0, 0, 0, 0, 0, 0, 0, 0,\n",
       "       0, 0, 0, 0, 0, 0, 0, 0, 0, 0, 0, 0, 0, 0, 0, 0, 0, 0, 0, 0, 0, 0, 0,\n",
       "       0, 0, 0, 0, 0, 0, 0, 0, 0, 0, 0, 0, 0, 0, 0, 0, 0, 0, 0, 0, 0, 0, 0,\n",
       "       0, 0, 0, 0, 0, 0, 0, 0, 0, 0, 0, 0, 0, 0, 0, 0, 0, 0, 0, 0, 0, 0, 0,\n",
       "       0, 0, 0, 0, 0, 0, 0, 0, 0, 0, 0, 0, 0, 0, 0, 0, 0, 0, 0, 0, 0, 0, 0,\n",
       "       0, 0, 0, 0, 0, 0, 0, 0, 0, 0, 0, 0, 0, 0, 0, 0, 0, 0, 0, 0, 0, 0, 0,\n",
       "       0, 0, 0, 0, 0, 0, 0, 0, 0, 0, 0, 0, 0, 0, 0, 0, 0, 0, 0, 0, 0, 0, 0,\n",
       "       0, 0, 0, 0, 0, 0, 0, 0, 0, 0, 0, 0, 0, 0, 0, 0, 0, 0, 0, 0, 0, 0, 0,\n",
       "       0, 0, 0, 0, 0, 0, 0, 0, 0, 0, 0, 0, 0, 0, 0, 0, 0, 0, 0, 0, 0, 0, 0,\n",
       "       0, 0, 0, 0, 0, 0, 0, 0, 0, 0, 0, 0, 0, 0, 0, 0, 0, 0, 0, 0, 0, 0, 0,\n",
       "       0, 0, 0, 0, 0, 0, 0, 0, 0, 0, 0, 0, 0, 0, 0, 0, 0, 0, 0, 0, 0, 0, 0,\n",
       "       0, 0, 0, 0, 0, 0, 0, 0, 0, 0, 0, 0, 0, 0, 0, 0, 0, 0, 0, 0, 0, 0, 0,\n",
       "       0, 0, 0, 0, 0, 0, 0, 0, 0, 0, 0, 0, 0, 0, 0, 0, 0, 0, 0, 0, 0, 0, 0,\n",
       "       0, 0, 0, 0, 0, 0, 0, 0, 0, 0, 0, 0, 0, 0, 0, 0, 0, 0, 0, 0, 0, 0, 0,\n",
       "       0, 0, 0, 0, 0, 0, 0, 0, 0, 0, 0, 0, 0, 0, 0, 0, 0, 0, 0, 0, 0, 0, 0,\n",
       "       0, 0, 0, 0, 0, 0, 0, 0, 0, 0, 0, 0, 0, 0, 0, 0, 0, 0, 0, 0, 0, 0, 0,\n",
       "       0, 0, 0, 0, 0, 0, 0, 0, 0, 0, 0, 0, 0, 0, 0, 0, 0, 0, 0, 0, 0, 0, 0,\n",
       "       0, 0, 0, 0, 0, 0, 0, 0, 0, 0, 0, 0, 0, 0, 0, 0, 0, 0, 0, 0, 0, 0, 0,\n",
       "       0, 0, 0, 0, 0, 0, 0, 0, 0, 0, 0, 0, 0, 0, 0, 0, 0, 0, 0, 0, 0, 0, 0,\n",
       "       0, 0, 0, 0, 0, 0, 0, 0, 0, 0, 0, 0, 0, 0, 0, 0, 0, 0, 0, 0, 0, 0, 0,\n",
       "       0, 0, 0, 0, 0, 0, 0, 0, 0, 0, 0, 0, 0, 0, 0, 0, 0, 0, 0, 0, 0, 0, 0,\n",
       "       0, 0, 0, 0, 0, 0, 0, 0, 0, 0, 0, 0, 0, 0, 0, 0, 0, 0, 0, 0, 0, 0, 0,\n",
       "       0, 0, 0, 0, 0, 0, 0, 0, 0, 0, 0, 0, 0, 0, 0, 0, 0, 0, 0, 0, 0, 0, 0,\n",
       "       0, 0, 0, 0, 0, 0, 0, 0, 0, 0, 0, 0, 0, 0, 0, 0, 0, 0, 0, 0, 0, 0, 0,\n",
       "       0, 0, 0, 0, 0, 0, 0, 0, 0, 0, 0, 0, 0, 0, 0, 0, 0, 0, 0, 0, 0, 0, 0,\n",
       "       0, 0, 0, 0, 0, 0, 0, 0, 0, 0, 0, 0, 0, 0, 0, 0, 0, 0, 0, 0, 0, 0, 0,\n",
       "       0, 0, 0, 0, 0, 0, 0, 0, 0, 0, 0, 0, 0, 0, 0, 0, 0, 0, 0, 0, 0, 0, 0,\n",
       "       0, 0, 0, 0, 0, 0, 0, 0, 0, 0, 0, 0, 0, 0, 0, 0, 0, 0, 0, 0, 0, 0, 0,\n",
       "       0, 0, 0, 0, 0, 0, 0, 0, 0, 0, 0, 0, 0, 0, 0, 0, 0, 0, 0, 0, 0, 0, 0,\n",
       "       0, 0, 0, 0, 0, 0, 0, 0, 0, 0, 0, 0, 0, 0, 0, 0, 0, 0, 0, 0, 0, 0, 0,\n",
       "       0, 0, 0, 0, 0, 0, 0, 0, 0, 0, 0, 0, 0, 0, 0, 0, 0, 0, 0, 0, 0, 0, 0,\n",
       "       0, 0, 0, 0, 0, 0, 0, 0, 0, 0, 0, 0, 0, 0, 0, 0, 0, 0, 0, 0, 0, 0, 0,\n",
       "       0, 0, 0, 0, 0, 0, 0, 0, 0, 0, 0, 0, 0, 0, 0, 0, 0, 0, 0, 0, 0, 0, 0,\n",
       "       0, 0, 0, 0, 0, 0, 0, 0, 0, 0, 0, 0, 0, 0, 0, 0, 0, 0, 0, 0, 0, 0, 0,\n",
       "       0, 0, 0, 0, 0, 0])"
      ]
     },
     "execution_count": 76,
     "metadata": {},
     "output_type": "execute_result"
    }
   ],
   "source": [
    "from sklearn.dummy import DummyClassifier\n",
    "\n",
    "# Negative class (0) is most frequent\n",
    "dummy_majority = DummyClassifier(strategy = 'most_frequent').fit(X_train, y_train)\n",
    "# Therefore the dummy 'most_frequent' classifier always predicts class 0\n",
    "y_dummy_predictions = dummy_majority.predict(X_test)\n",
    "\n",
    "y_dummy_predictions"
   ]
  },
  {
   "cell_type": "code",
   "execution_count": 77,
   "metadata": {},
   "outputs": [
    {
     "data": {
      "text/plain": [
       "0.86211031175059949"
      ]
     },
     "execution_count": 77,
     "metadata": {},
     "output_type": "execute_result"
    }
   ],
   "source": [
    "dummy_majority.score(X_test, y_test)"
   ]
  },
  {
   "cell_type": "code",
   "execution_count": 78,
   "metadata": {},
   "outputs": [
    {
     "data": {
      "text/plain": [
       "0.86211031175059949"
      ]
     },
     "execution_count": 78,
     "metadata": {},
     "output_type": "execute_result"
    }
   ],
   "source": [
    "svm = SVC(kernel='linear', C=1).fit(X_train, y_train)\n",
    "svm.score(X_test, y_test)"
   ]
  },
  {
   "cell_type": "markdown",
   "metadata": {},
   "source": [
    "## Confusion matrices\n"
   ]
  },
  {
   "cell_type": "markdown",
   "metadata": {},
   "source": [
    "Binary (two-class) confusion matrix"
   ]
  },
  {
   "cell_type": "code",
   "execution_count": 79,
   "metadata": {},
   "outputs": [
    {
     "name": "stdout",
     "output_type": "stream",
     "text": [
      "Most frequent class (dummy classifier)\n",
      " [[719   0]\n",
      " [115   0]]\n"
     ]
    }
   ],
   "source": [
    "from sklearn.metrics import confusion_matrix\n",
    "\n",
    "# Negative class (0) is most frequent\n",
    "dummy_majority = DummyClassifier(strategy = 'most_frequent').fit(X_train, y_train)\n",
    "y_majority_predicted = dummy_majority.predict(X_test)\n",
    "confusion = confusion_matrix(y_test, y_majority_predicted)\n",
    "\n",
    "print('Most frequent class (dummy classifier)\\n', confusion)"
   ]
  },
  {
   "cell_type": "code",
   "execution_count": 80,
   "metadata": {},
   "outputs": [
    {
     "name": "stdout",
     "output_type": "stream",
     "text": [
      "Random class-proportional prediction (dummy classifier)\n",
      " [[599 120]\n",
      " [104  11]]\n"
     ]
    }
   ],
   "source": [
    "# produces random predictions w/ same class proportion as training set\n",
    "dummy_classprop = DummyClassifier(strategy='stratified').fit(X_train, y_train)\n",
    "y_classprop_predicted = dummy_classprop.predict(X_test)\n",
    "confusion = confusion_matrix(y_test, y_classprop_predicted)\n",
    "\n",
    "print('Random class-proportional prediction (dummy classifier)\\n', confusion)"
   ]
  },
  {
   "cell_type": "code",
   "execution_count": 81,
   "metadata": {},
   "outputs": [
    {
     "name": "stdout",
     "output_type": "stream",
     "text": [
      "Support vector machine classifier (linear kernel, C=1)\n",
      " [[719   0]\n",
      " [115   0]]\n"
     ]
    }
   ],
   "source": [
    "svm = SVC(kernel='linear', C=1).fit(X_train, y_train)\n",
    "svm_predicted = svm.predict(X_test)\n",
    "confusion = confusion_matrix(y_test, svm_predicted)\n",
    "\n",
    "print('Support vector machine classifier (linear kernel, C=1)\\n', confusion)"
   ]
  },
  {
   "cell_type": "code",
   "execution_count": 82,
   "metadata": {},
   "outputs": [
    {
     "name": "stdout",
     "output_type": "stream",
     "text": [
      "Logistic regression classifier (default settings)\n",
      " [[700  19]\n",
      " [ 93  22]]\n"
     ]
    }
   ],
   "source": [
    "from sklearn.linear_model import LogisticRegression\n",
    "\n",
    "lr = LogisticRegression().fit(X_train, y_train)\n",
    "lr_predicted = lr.predict(X_test)\n",
    "confusion = confusion_matrix(y_test, lr_predicted)\n",
    "\n",
    "print('Logistic regression classifier (default settings)\\n', confusion)"
   ]
  },
  {
   "cell_type": "code",
   "execution_count": 83,
   "metadata": {},
   "outputs": [
    {
     "name": "stdout",
     "output_type": "stream",
     "text": [
      "Decision tree classifier (max_depth = 2)\n",
      " [[671  48]\n",
      " [ 58  57]]\n"
     ]
    }
   ],
   "source": [
    "from sklearn.tree import DecisionTreeClassifier\n",
    "\n",
    "dt = DecisionTreeClassifier(max_depth=2).fit(X_train, y_train)\n",
    "tree_predicted = dt.predict(X_test)\n",
    "confusion = confusion_matrix(y_test, tree_predicted)\n",
    "\n",
    "print('Decision tree classifier (max_depth = 2)\\n', confusion)"
   ]
  },
  {
   "cell_type": "markdown",
   "metadata": {},
   "source": [
    "## Evaluation metrics for binary classification"
   ]
  },
  {
   "cell_type": "code",
   "execution_count": 84,
   "metadata": {},
   "outputs": [
    {
     "name": "stdout",
     "output_type": "stream",
     "text": [
      "Accuracy: 0.87\n",
      "Precision: 0.54\n",
      "Recall: 0.50\n",
      "F1: 0.52\n"
     ]
    }
   ],
   "source": [
    "from sklearn.metrics import accuracy_score, precision_score, recall_score, f1_score\n",
    "# Accuracy = TP + TN / (TP + TN + FP + FN)\n",
    "# Precision = TP / (TP + FP)\n",
    "# Recall = TP / (TP + FN)  Also known as sensitivity, or True Positive Rate\n",
    "# F1 = 2 * Precision * Recall / (Precision + Recall) \n",
    "print('Accuracy: {:.2f}'.format(accuracy_score(y_test, tree_predicted)))\n",
    "print('Precision: {:.2f}'.format(precision_score(y_test, tree_predicted)))\n",
    "print('Recall: {:.2f}'.format(recall_score(y_test, tree_predicted)))\n",
    "print('F1: {:.2f}'.format(f1_score(y_test, tree_predicted)))"
   ]
  },
  {
   "cell_type": "code",
   "execution_count": 85,
   "metadata": {},
   "outputs": [
    {
     "name": "stdout",
     "output_type": "stream",
     "text": [
      "             precision    recall  f1-score   support\n",
      "\n",
      "      not 1       0.92      0.93      0.93       719\n",
      "          1       0.54      0.50      0.52       115\n",
      "\n",
      "avg / total       0.87      0.87      0.87       834\n",
      "\n"
     ]
    }
   ],
   "source": [
    "# Combined report with all above metrics\n",
    "from sklearn.metrics import classification_report\n",
    "\n",
    "print(classification_report(y_test, tree_predicted, target_names=['not 1', '1']))"
   ]
  },
  {
   "cell_type": "code",
   "execution_count": 86,
   "metadata": {},
   "outputs": [
    {
     "name": "stdout",
     "output_type": "stream",
     "text": [
      "Random class-proportional (dummy)\n",
      "              precision    recall  f1-score   support\n",
      "\n",
      "      not 1       0.85      0.83      0.84       719\n",
      "          1       0.08      0.10      0.09       115\n",
      "\n",
      "avg / total       0.75      0.73      0.74       834\n",
      "\n",
      "SVM\n",
      "              precision    recall  f1-score   support\n",
      "\n",
      "      not 1       0.86      1.00      0.93       719\n",
      "          1       0.00      0.00      0.00       115\n",
      "\n",
      "avg / total       0.74      0.86      0.80       834\n",
      "\n",
      "Logistic regression\n",
      "              precision    recall  f1-score   support\n",
      "\n",
      "      not 1       0.88      0.97      0.93       719\n",
      "          1       0.54      0.19      0.28       115\n",
      "\n",
      "avg / total       0.83      0.87      0.84       834\n",
      "\n",
      "Decision tree\n",
      "              precision    recall  f1-score   support\n",
      "\n",
      "      not 1       0.92      0.93      0.93       719\n",
      "          1       0.54      0.50      0.52       115\n",
      "\n",
      "avg / total       0.87      0.87      0.87       834\n",
      "\n"
     ]
    },
    {
     "name": "stderr",
     "output_type": "stream",
     "text": [
      "/home/suh/anaconda3/lib/python3.6/site-packages/sklearn/metrics/classification.py:1113: UndefinedMetricWarning: Precision and F-score are ill-defined and being set to 0.0 in labels with no predicted samples.\n",
      "  'precision', 'predicted', average, warn_for)\n"
     ]
    }
   ],
   "source": [
    "print('Random class-proportional (dummy)\\n', \n",
    "      classification_report(y_test, y_classprop_predicted, target_names=['not 1', '1']))\n",
    "print('SVM\\n', \n",
    "      classification_report(y_test, svm_predicted, target_names = ['not 1', '1']))\n",
    "print('Logistic regression\\n', \n",
    "      classification_report(y_test, lr_predicted, target_names = ['not 1', '1']))\n",
    "print('Decision tree\\n', \n",
    "      classification_report(y_test, tree_predicted, target_names = ['not 1', '1']))"
   ]
  },
  {
   "cell_type": "code",
   "execution_count": 87,
   "metadata": {},
   "outputs": [
    {
     "data": {
      "text/plain": [
       "[(0, -0.35922544704334403),\n",
       " (0, -3.7323227657460532),\n",
       " (0, -0.77388071841989081),\n",
       " (0, -2.8407368879094639),\n",
       " (1, 1.6110848302407388),\n",
       " (1, 0.83317299535290923),\n",
       " (1, -0.47954398270752896),\n",
       " (0, -2.9495418637014934),\n",
       " (0, -1.7838681201333568),\n",
       " (0, -0.48210211219701016),\n",
       " (0, -3.0611665956056942),\n",
       " (0, -2.4170004900187378),\n",
       " (0, -2.1819175412057721),\n",
       " (0, -4.9295327175755972),\n",
       " (1, -1.1318048583880793),\n",
       " (0, -1.009291128645635),\n",
       " (0, -2.1100758669055097),\n",
       " (0, -1.6360379576997162),\n",
       " (0, -2.1282545676217732),\n",
       " (0, -2.8799285909984005)]"
      ]
     },
     "execution_count": 87,
     "metadata": {},
     "output_type": "execute_result"
    }
   ],
   "source": [
    "X_train, X_test, y_train, y_test = train_test_split(X, y_binary_imbalanced, random_state=0)\n",
    "y_scores_lr = lr.fit(X_train, y_train).decision_function(X_test)\n",
    "y_score_list = list(zip(y_test[0:20], y_scores_lr[0:20]))\n",
    "\n",
    "# show the decision_function scores for first 20 instances\n",
    "y_score_list"
   ]
  },
  {
   "cell_type": "code",
   "execution_count": 88,
   "metadata": {},
   "outputs": [
    {
     "data": {
      "text/plain": [
       "[(0, 0.41114707629316616),\n",
       " (0, 0.023377577703215937),\n",
       " (0, 0.31564022743492104),\n",
       " (0, 0.055162119138847422),\n",
       " (1, 0.83356194636362546),\n",
       " (1, 0.69702542470295503),\n",
       " (1, 0.38235981285426651),\n",
       " (0, 0.049758168825798442),\n",
       " (0, 0.14382615648160274),\n",
       " (0, 0.38175586506309556),\n",
       " (0, 0.044737820526782227),\n",
       " (0, 0.081885476730592183),\n",
       " (0, 0.10138609297787901),\n",
       " (0, 0.0071779849125001155),\n",
       " (1, 0.24382817450315009),\n",
       " (0, 0.26711860093963496),\n",
       " (0, 0.10812135061350898),\n",
       " (0, 0.16300489956704795),\n",
       " (0, 0.10638080537391427),\n",
       " (0, 0.053154730248800998)]"
      ]
     },
     "execution_count": 88,
     "metadata": {},
     "output_type": "execute_result"
    }
   ],
   "source": [
    "X_train, X_test, y_train, y_test = train_test_split(X, y_binary_imbalanced, random_state=0)\n",
    "y_proba_lr = lr.fit(X_train, y_train).predict_proba(X_test)\n",
    "y_proba_list = list(zip(y_test[0:20], y_proba_lr[0:20,1]))\n",
    "\n",
    "# show the probability of positive class for first 20 instances\n",
    "y_proba_list"
   ]
  },
  {
   "cell_type": "markdown",
   "metadata": {},
   "source": [
    "## Precision-recall curves"
   ]
  },
  {
   "cell_type": "code",
   "execution_count": 89,
   "metadata": {},
   "outputs": [
    {
     "data": {
      "image/png": "[encoded data removed]",
      "text/plain": [
       "<matplotlib.figure.Figure at 0x7f55266f7780>"
      ]
     },
     "metadata": {},
     "output_type": "display_data"
    }
   ],
   "source": [
    "from sklearn.metrics import precision_recall_curve\n",
    "\n",
    "precision, recall, thresholds = precision_recall_curve(y_test, y_scores_lr)\n",
    "closest_zero = np.argmin(np.abs(thresholds))\n",
    "closest_zero_p = precision[closest_zero]\n",
    "closest_zero_r = recall[closest_zero]\n",
    "\n",
    "plt.figure()\n",
    "plt.xlim([0.0, 1.0])\n",
    "plt.ylim([0.0, 1.0])\n",
    "plt.plot(precision, recall, label='Precision-Recall Curve')\n",
    "plt.plot(closest_zero_p, closest_zero_r, 'o', markersize = 12, fillstyle = 'none', c='r', mew=3)\n",
    "plt.xlabel('Precision', fontsize=16)\n",
    "plt.ylabel('Recall', fontsize=16)\n",
    "plt.axes().set_aspect('equal')\n",
    "plt.show()"
   ]
  },
  {
   "cell_type": "markdown",
   "metadata": {},
   "source": [
    "## ROC curves, Area-Under-Curve (AUC)"
   ]
  },
  {
   "cell_type": "code",
   "execution_count": 90,
   "metadata": {},
   "outputs": [
    {
     "data": {
      "image/png": "[encoded data removed]",
      "text/plain": [
       "<matplotlib.figure.Figure at 0x7f5526449ef0>"
      ]
     },
     "metadata": {},
     "output_type": "display_data"
    }
   ],
   "source": [
    "from sklearn.metrics import roc_curve, auc\n",
    "\n",
    "X_train, X_test, y_train, y_test = train_test_split(X, y_binary_imbalanced, random_state=0)\n",
    "\n",
    "y_score_lr = lr.fit(X_train, y_train).decision_function(X_test)\n",
    "fpr_lr, tpr_lr, _ = roc_curve(y_test, y_score_lr)\n",
    "roc_auc_lr = auc(fpr_lr, tpr_lr)\n",
    "\n",
    "plt.figure()\n",
    "plt.xlim([-0.01, 1.00])\n",
    "plt.ylim([-0.01, 1.01])\n",
    "plt.plot(fpr_lr, tpr_lr, lw=3, label='LogRegr ROC curve (area = {:0.2f})'.format(roc_auc_lr))\n",
    "plt.xlabel('False Positive Rate', fontsize=16)\n",
    "plt.ylabel('True Positive Rate', fontsize=16)\n",
    "plt.title('ROC curve (1-of-10 digits classifier)', fontsize=16)\n",
    "plt.legend(loc='lower right', fontsize=13)\n",
    "plt.plot([0, 1], [0, 1], color='navy', lw=3, linestyle='--')\n",
    "plt.axes().set_aspect('equal')\n",
    "plt.show()"
   ]
  },
  {
   "cell_type": "code",
   "execution_count": 91,
   "metadata": {},
   "outputs": [
    {
     "name": "stdout",
     "output_type": "stream",
     "text": [
      "gamma = 0.01  accuracy = 0.89   AUC = 0.90\n",
      "gamma = 0.10  accuracy = 0.92   AUC = 0.92\n",
      "gamma = 0.20  accuracy = 0.90   AUC = 0.91\n",
      "gamma = 1.00  accuracy = 0.86   AUC = 0.83\n"
     ]
    },
    {
     "data": {
      "image/png": "[encoded data removed]",
      "text/plain": [
       "<matplotlib.figure.Figure at 0x7f5526a1c550>"
      ]
     },
     "metadata": {},
     "output_type": "display_data"
    }
   ],
   "source": [
    "from matplotlib import cm\n",
    "\n",
    "X_train, X_test, y_train, y_test = train_test_split(X, y_binary_imbalanced, random_state=0)\n",
    "\n",
    "plt.figure()\n",
    "plt.xlim([-0.01, 1.00])\n",
    "plt.ylim([-0.01, 1.01])\n",
    "for g in [0.01, 0.1, 0.20, 1]:\n",
    "    svm = SVC(gamma=g).fit(X_train, y_train)\n",
    "    y_score_svm = svm.decision_function(X_test)\n",
    "    fpr_svm, tpr_svm, _ = roc_curve(y_test, y_score_svm)\n",
    "    roc_auc_svm = auc(fpr_svm, tpr_svm)\n",
    "    accuracy_svm = svm.score(X_test, y_test)\n",
    "    print(\"gamma = {:.2f}  accuracy = {:.2f}   AUC = {:.2f}\".format(g, accuracy_svm, \n",
    "                                                                    roc_auc_svm))\n",
    "    plt.plot(fpr_svm, tpr_svm, lw=3, alpha=0.7, \n",
    "             label='SVM (gamma = {:0.2f}, area = {:0.2f})'.format(g, roc_auc_svm))\n",
    "\n",
    "plt.xlabel('False Positive Rate', fontsize=16)\n",
    "plt.ylabel('True Positive Rate (Recall)', fontsize=16)\n",
    "plt.plot([0, 1], [0, 1], color='k', lw=0.5, linestyle='--')\n",
    "plt.legend(loc=\"lower right\", fontsize=11)\n",
    "plt.title('ROC curve: (1-of-10 digits classifier)', fontsize=16)\n",
    "plt.axes().set_aspect('equal')\n",
    "\n",
    "plt.show()"
   ]
  },
  {
   "cell_type": "code",
   "execution_count": 92,
   "metadata": {},
   "outputs": [
    {
     "name": "stdout",
     "output_type": "stream",
     "text": [
      "Cross-validation (accuracy) [ 0.85457271  0.85457271  0.85457271  0.85585586  0.85585586]\n",
      "Cross-validation (AUC) [ 0.70728884  0.65977573  0.75831073  0.62192982  0.5942617 ]\n",
      "Cross-validation (recall) [ 0.  0.  0.  0.  0.]\n"
     ]
    }
   ],
   "source": [
    "from sklearn.model_selection import cross_val_score\n",
    "from sklearn.svm import SVC\n",
    "\n",
    "\n",
    "clf = SVC(kernel='linear', C=1)\n",
    "\n",
    "# accuracy is the default scoring metric\n",
    "print('Cross-validation (accuracy)', cross_val_score(clf, X, y, cv=5))\n",
    "# use AUC as scoring metric\n",
    "print('Cross-validation (AUC)', cross_val_score(clf, X, y, cv=5, scoring = 'roc_auc'))\n",
    "# use recall as scoring metric\n",
    "print('Cross-validation (recall)', cross_val_score(clf, X, y, cv=5, scoring = 'recall'))"
   ]
  },
  {
   "cell_type": "markdown",
   "metadata": {},
   "source": [
    "## Grid search"
   ]
  },
  {
   "cell_type": "code",
   "execution_count": 93,
   "metadata": {},
   "outputs": [
    {
     "name": "stdout",
     "output_type": "stream",
     "text": [
      "Grid best parameter (max. accuracy):  {'gamma': 0.05}\n",
      "Grid best score (accuracy):  0.910764305722\n",
      "Test set AUC:  0.91998548709\n",
      "Grid best parameter (max. AUC):  {'gamma': 0.05}\n",
      "Grid best score (AUC):  0.89632728614\n"
     ]
    }
   ],
   "source": [
    "from sklearn.svm import SVC\n",
    "from sklearn.model_selection import GridSearchCV\n",
    "from sklearn.metrics import roc_auc_score\n",
    "\n",
    "X_train, X_test, y_train, y_test = train_test_split(X, y, random_state=0)\n",
    "\n",
    "clf = SVC(kernel='rbf')\n",
    "grid_values = {'gamma': [0.001, 0.01, 0.05, 0.1, 1, 10, 100]}\n",
    "\n",
    "# default metric to optimize over grid parameters: accuracy\n",
    "grid_clf_acc = GridSearchCV(clf, param_grid = grid_values)\n",
    "grid_clf_acc.fit(X_train, y_train)\n",
    "y_decision_fn_scores_acc = grid_clf_acc.decision_function(X_test) \n",
    "\n",
    "print('Grid best parameter (max. accuracy): ', grid_clf_acc.best_params_)\n",
    "print('Grid best score (accuracy): ', grid_clf_acc.best_score_)\n",
    "\n",
    "# alternative metric to optimize over grid parameters: AUC\n",
    "grid_clf_auc = GridSearchCV(clf, param_grid = grid_values, scoring = 'roc_auc')\n",
    "grid_clf_auc.fit(X_train, y_train)\n",
    "y_decision_fn_scores_auc = grid_clf_auc.decision_function(X_test) \n",
    "\n",
    "print('Test set AUC: ', roc_auc_score(y_test, y_decision_fn_scores_auc))\n",
    "print('Grid best parameter (max. AUC): ', grid_clf_auc.best_params_)\n",
    "print('Grid best score (AUC): ', grid_clf_auc.best_score_)"
   ]
  },
  {
   "cell_type": "code",
   "execution_count": 94,
   "metadata": {},
   "outputs": [
    {
     "name": "stdout",
     "output_type": "stream",
     "text": [
      "['accuracy', 'adjusted_rand_score', 'average_precision', 'f1', 'f1_macro', 'f1_micro', 'f1_samples', 'f1_weighted', 'log_loss', 'mean_absolute_error', 'mean_squared_error', 'median_absolute_error', 'neg_log_loss', 'neg_mean_absolute_error', 'neg_mean_squared_error', 'neg_median_absolute_error', 'precision', 'precision_macro', 'precision_micro', 'precision_samples', 'precision_weighted', 'r2', 'recall', 'recall_macro', 'recall_micro', 'recall_samples', 'recall_weighted', 'roc_auc']\n"
     ]
    }
   ],
   "source": [
    "from sklearn.metrics.scorer import SCORERS\n",
    "\n",
    "print(sorted(list(SCORERS.keys())))"
   ]
  },
  {
   "cell_type": "markdown",
   "metadata": {
    "collapsed": true
   },
   "source": [
    "# Conclusion"
   ]
  },
  {
   "cell_type": "markdown",
   "metadata": {},
   "source": [
    "##### All methodology(except PCA) used in this notebook is supervised learning approach because, data set the above is some quality tagged training data.\n",
    "##### So, a question raised here, what if you do not have enough quality labelled training data. You guys BNK has enough those tagging data?\n",
    "#### In practice, getting those labelled data is not easy and it is quite expensive and time consuming process.\n",
    "\n",
    "##### In Customer Churn Prediction problem(assuming this scenario that we know how much money they withdraw or deposit into it this month and in this case, can we predict if they will continue using the app next month or not?), If you do not have a quality labelled data, You can use unsepervised learnig algorithm like GMM (gaussian mixture model) to extract any meaningful data patterns instead."
   ]
  },
  {
   "cell_type": "code",
   "execution_count": null,
   "metadata": {
    "collapsed": true
   },
   "outputs": [],
   "source": []
  },
  {
   "cell_type": "code",
   "execution_count": null,
   "metadata": {
    "collapsed": true
   },
   "outputs": [],
   "source": []
  },
  {
   "cell_type": "code",
   "execution_count": null,
   "metadata": {
    "collapsed": true
   },
   "outputs": [],
   "source": []
  }
 ],
 "metadata": {
  "kernelspec": {
   "display_name": "Python 3",
   "language": "python",
   "name": "python3"
  },
  "language_info": {
   "codemirror_mode": {
    "name": "ipython",
    "version": 3
   },
   "file_extension": ".py",
   "mimetype": "text/x-python",
   "name": "python",
   "nbconvert_exporter": "python",
   "pygments_lexer": "ipython3",
   "version": "3.6.1"
  }
 },
 "nbformat": 4,
 "nbformat_minor": 2
}
